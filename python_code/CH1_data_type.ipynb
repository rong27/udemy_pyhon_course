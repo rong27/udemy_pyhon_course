{
 "cells": [
  {
   "attachments": {},
   "cell_type": "markdown",
   "metadata": {},
   "source": [
    "### CH1-11. Operators for Numbers in Python"
   ]
  },
  {
   "cell_type": "code",
   "execution_count": 1,
   "metadata": {},
   "outputs": [
    {
     "name": "stdout",
     "output_type": "stream",
     "text": [
      "addtion:  15\n",
      "subtraction:  5\n",
      "multiplication:  50\n",
      "division:  2.0\n",
      "remainder:  0\n",
      "remainder:  1\n",
      "exponent:  8\n",
      "exponent:  9\n"
     ]
    }
   ],
   "source": [
    "# 1. addition +\n",
    "print('addtion: ', 10 + 5)\n",
    "# 2. subtraction -\n",
    "print('subtraction: ', 10 - 5)\n",
    "# 3. multiplication *\n",
    "print('multiplication: ', 10 * 5)\n",
    "# 4. division /\n",
    "print('division: ', 10 / 5)\n",
    "# 5. remainder operator(mod) %\n",
    "print('remainder: ', 10 % 5) # 0\n",
    "print('remainder: ', 10 % 3) # 1\n",
    "# 6. exponent\n",
    "print('exponent: ', 2 ** 3) # 8\n",
    "print('exponent: ', 3 ** 2) # 9"
   ]
  },
  {
   "attachments": {},
   "cell_type": "markdown",
   "metadata": {},
   "source": [
    "### CH1-12. Functions of Numbers"
   ]
  },
  {
   "cell_type": "code",
   "execution_count": 2,
   "metadata": {},
   "outputs": [
    {
     "name": "stdout",
     "output_type": "stream",
     "text": [
      "abs:  5\n",
      "abs:  5\n",
      "data type to str:  3\n",
      "str plus str: 33\n",
      "int plus int: 6\n",
      "pow:  1024\n",
      "max:  7\n",
      "min:  -1000\n",
      "round:  2\n",
      "round:  3\n",
      "round:  2\n",
      "round:  4\n",
      "data type to int:  3\n",
      "data type to float:  3.0\n"
     ]
    }
   ],
   "source": [
    "# abs() \n",
    "print('abs: ', abs(5))\n",
    "print('abs: ', abs(-5))\n",
    "# str() \n",
    "print('data type to str: ', str(3))\n",
    "print('str plus str:', str(3) + str(3))\n",
    "print('int plus int:', 3 + 3 )\n",
    "# pow() \n",
    "print('pow: ', pow(2, 10)) # 2^10\n",
    "# max() \n",
    "print('max: ', max(4, 2, 1, -10, -100, -1000, 7))\n",
    "# min() \n",
    "print('min: ', min(4, 2, 1, -10, -100, -1000, 7))\n",
    "# round() 四捨五入\n",
    "print('round: ', round(2.2))\n",
    "print('round: ', round(2.6))\n",
    "print('round: ', round(2.5))\n",
    "print('round: ', round(3.5))\n",
    "# int() \n",
    "print('data type to int: ', int(3.0))\n",
    "# float() \n",
    "print('data type to float: ', float(3))"
   ]
  },
  {
   "cell_type": "code",
   "execution_count": 3,
   "metadata": {},
   "outputs": [
    {
     "name": "stdout",
     "output_type": "stream",
     "text": [
      "e:  2.718281828459045\n",
      "pi:  3.141592653589793\n",
      "floor:  4\n",
      "ceil:  5\n",
      "sqrt:  2.0\n"
     ]
    }
   ],
   "source": [
    "# Math Module\n",
    "import math\n",
    "# e\n",
    "print('e: ', math.e)\n",
    "# pi \n",
    "print('pi: ', math.pi)\n",
    "# floor() # 無條件捨去\n",
    "print('floor: ', math.floor(4.999))\n",
    "# ceil() # 無條件進入\n",
    "print('ceil: ', math.ceil(4.999))\n",
    "# sqrt() \n",
    "print('sqrt: ', math.sqrt(4))\n"
   ]
  },
  {
   "attachments": {},
   "cell_type": "markdown",
   "metadata": {},
   "source": [
    "### CH1-13. Variable and Assignment"
   ]
  },
  {
   "cell_type": "code",
   "execution_count": 4,
   "metadata": {},
   "outputs": [
    {
     "name": "stdout",
     "output_type": "stream",
     "text": [
      "6\n"
     ]
    }
   ],
   "source": [
    "x = 5\n",
    "x += 1  # x = x + 1\n",
    "print(x)"
   ]
  },
  {
   "attachments": {},
   "cell_type": "markdown",
   "metadata": {},
   "source": [
    "### CH1-14. String indexing and slicing"
   ]
  },
  {
   "cell_type": "code",
   "execution_count": 5,
   "metadata": {},
   "outputs": [
    {
     "name": "stdout",
     "output_type": "stream",
     "text": [
      "cdefg\n",
      "abcdefg\n",
      "ce\n",
      "gfedcba\n",
      "gfedcba\n"
     ]
    }
   ],
   "source": [
    "x = 'abcdefg'\n",
    "print(x[2:])\n",
    "print(x[:])\n",
    "print(x[2:6:2])\n",
    "\n",
    "print(x[::-1])\n",
    "print(\"abcdefg\"[::-1]) # gfedcba"
   ]
  },
  {
   "attachments": {},
   "cell_type": "markdown",
   "metadata": {},
   "source": [
    "### CH1-15. String Quotations and Line Changing"
   ]
  },
  {
   "cell_type": "code",
   "execution_count": 6,
   "metadata": {},
   "outputs": [
    {
     "name": "stdout",
     "output_type": "stream",
     "text": [
      "Hello I am 'Joy'.\n"
     ]
    }
   ],
   "source": [
    "print(\"Hello I am 'Joy'.\")"
   ]
  },
  {
   "cell_type": "code",
   "execution_count": 7,
   "metadata": {},
   "outputs": [
    {
     "name": "stdout",
     "output_type": "stream",
     "text": [
      "I said... \n",
      "change new line.\n"
     ]
    }
   ],
   "source": [
    "print(\"I said... \\nchange new line.\")"
   ]
  },
  {
   "attachments": {},
   "cell_type": "markdown",
   "metadata": {},
   "source": [
    "### CH1-16. String Concatenation"
   ]
  },
  {
   "cell_type": "code",
   "execution_count": 8,
   "metadata": {},
   "outputs": [
    {
     "name": "stdout",
     "output_type": "stream",
     "text": [
      "Hello my name is Joy.\n"
     ]
    }
   ],
   "source": [
    "myString1 = 'Hello '\n",
    "myString2 = 'my name is Joy.'\n",
    "\n",
    "print(myString1 + myString2)"
   ]
  },
  {
   "cell_type": "code",
   "execution_count": 9,
   "metadata": {},
   "outputs": [
    {
     "ename": "TypeError",
     "evalue": "unsupported operand type(s) for +: 'int' and 'str'",
     "output_type": "error",
     "traceback": [
      "\u001b[1;31m---------------------------------------------------------------------------\u001b[0m",
      "\u001b[1;31mTypeError\u001b[0m                                 Traceback (most recent call last)",
      "\u001b[1;32m<ipython-input-9-3c230fca8dad>\u001b[0m in \u001b[0;36m<module>\u001b[1;34m\u001b[0m\n\u001b[0;32m      2\u001b[0m \u001b[0mmyString3\u001b[0m \u001b[1;33m=\u001b[0m \u001b[1;34m'string'\u001b[0m\u001b[1;33m\u001b[0m\u001b[1;33m\u001b[0m\u001b[0m\n\u001b[0;32m      3\u001b[0m \u001b[1;33m\u001b[0m\u001b[0m\n\u001b[1;32m----> 4\u001b[1;33m \u001b[0mprint\u001b[0m\u001b[1;33m(\u001b[0m\u001b[0mmyNumber\u001b[0m \u001b[1;33m+\u001b[0m \u001b[0mmyString3\u001b[0m\u001b[1;33m)\u001b[0m\u001b[1;33m\u001b[0m\u001b[1;33m\u001b[0m\u001b[0m\n\u001b[0m",
      "\u001b[1;31mTypeError\u001b[0m: unsupported operand type(s) for +: 'int' and 'str'"
     ]
    }
   ],
   "source": [
    "myNumber = 1\n",
    "myString3 = 'string'\n",
    "\n",
    "print(myNumber + myString3)"
   ]
  },
  {
   "cell_type": "code",
   "execution_count": 10,
   "metadata": {},
   "outputs": [
    {
     "ename": "TypeError",
     "evalue": "'str' object does not support item assignment",
     "output_type": "error",
     "traceback": [
      "\u001b[1;31m---------------------------------------------------------------------------\u001b[0m",
      "\u001b[1;31mTypeError\u001b[0m                                 Traceback (most recent call last)",
      "\u001b[1;32m<ipython-input-10-230e745922f0>\u001b[0m in \u001b[0;36m<module>\u001b[1;34m\u001b[0m\n\u001b[0;32m      1\u001b[0m \u001b[0mmyString4\u001b[0m \u001b[1;33m=\u001b[0m \u001b[1;34m\"hello\"\u001b[0m\u001b[1;33m\u001b[0m\u001b[1;33m\u001b[0m\u001b[0m\n\u001b[1;32m----> 2\u001b[1;33m \u001b[0mmyString4\u001b[0m\u001b[1;33m[\u001b[0m\u001b[1;36m0\u001b[0m\u001b[1;33m]\u001b[0m \u001b[1;33m=\u001b[0m \u001b[1;34m'H'\u001b[0m\u001b[1;33m\u001b[0m\u001b[1;33m\u001b[0m\u001b[0m\n\u001b[0m\u001b[0;32m      3\u001b[0m \u001b[0mprint\u001b[0m\u001b[1;33m(\u001b[0m\u001b[0mmyString4\u001b[0m\u001b[1;33m)\u001b[0m\u001b[1;33m\u001b[0m\u001b[1;33m\u001b[0m\u001b[0m\n",
      "\u001b[1;31mTypeError\u001b[0m: 'str' object does not support item assignment"
     ]
    }
   ],
   "source": [
    "myString4 = \"hello\"\n",
    "myString4[0] = 'H'\n",
    "print(myString4)"
   ]
  },
  {
   "attachments": {},
   "cell_type": "markdown",
   "metadata": {},
   "source": [
    "### CH1-17. String Method 1"
   ]
  },
  {
   "cell_type": "code",
   "execution_count": 11,
   "metadata": {},
   "outputs": [
    {
     "name": "stdout",
     "output_type": "stream",
     "text": [
      "0\n"
     ]
    }
   ],
   "source": [
    "print(len(\"\"))"
   ]
  },
  {
   "cell_type": "code",
   "execution_count": 13,
   "metadata": {},
   "outputs": [
    {
     "ename": "ValueError",
     "evalue": "invalid literal for int() with base 10: 'two'",
     "output_type": "error",
     "traceback": [
      "\u001b[1;31m---------------------------------------------------------------------------\u001b[0m",
      "\u001b[1;31mValueError\u001b[0m                                Traceback (most recent call last)",
      "\u001b[1;32m<ipython-input-13-abc2c68b6cb3>\u001b[0m in \u001b[0;36m<module>\u001b[1;34m\u001b[0m\n\u001b[1;32m----> 1\u001b[1;33m \u001b[0mprint\u001b[0m\u001b[1;33m(\u001b[0m\u001b[0mint\u001b[0m\u001b[1;33m(\u001b[0m\u001b[1;34m\"two\"\u001b[0m\u001b[1;33m)\u001b[0m\u001b[1;33m)\u001b[0m\u001b[1;33m\u001b[0m\u001b[1;33m\u001b[0m\u001b[0m\n\u001b[0m",
      "\u001b[1;31mValueError\u001b[0m: invalid literal for int() with base 10: 'two'"
     ]
    }
   ],
   "source": [
    "print(int(\"two\"))"
   ]
  },
  {
   "cell_type": "code",
   "execution_count": 14,
   "metadata": {},
   "outputs": [
    {
     "name": "stdout",
     "output_type": "stream",
     "text": [
      "2\n"
     ]
    }
   ],
   "source": [
    "print(int(\"2\"))"
   ]
  },
  {
   "cell_type": "code",
   "execution_count": 15,
   "metadata": {},
   "outputs": [
    {
     "name": "stdout",
     "output_type": "stream",
     "text": [
      "JOY\n"
     ]
    }
   ],
   "source": [
    "name = \"Joy\"\n",
    "# object-oriented programming\n",
    "# name is an object\n",
    "# upper is a method\n",
    "print(name.upper())"
   ]
  },
  {
   "cell_type": "code",
   "execution_count": 16,
   "metadata": {},
   "outputs": [
    {
     "name": "stdout",
     "output_type": "stream",
     "text": [
      "Joy\n"
     ]
    }
   ],
   "source": [
    "name1 = \"Joy\"\n",
    "name.upper()\n",
    "print(name)\n",
    "# Joy\n",
    "# Python most of the methods does not change the value"
   ]
  },
  {
   "cell_type": "code",
   "execution_count": 17,
   "metadata": {},
   "outputs": [
    {
     "name": "stdout",
     "output_type": "stream",
     "text": [
      "True\n"
     ]
    }
   ],
   "source": [
    "name = \"Joy\"\n",
    "print(name.upper().isupper()) # method chaining"
   ]
  },
  {
   "cell_type": "code",
   "execution_count": 18,
   "metadata": {},
   "outputs": [
    {
     "ename": "ValueError",
     "evalue": "invalid literal for int() with base 10: '2.0'",
     "output_type": "error",
     "traceback": [
      "\u001b[1;31m---------------------------------------------------------------------------\u001b[0m",
      "\u001b[1;31mValueError\u001b[0m                                Traceback (most recent call last)",
      "\u001b[1;32m<ipython-input-18-156b72211eec>\u001b[0m in \u001b[0;36m<module>\u001b[1;34m\u001b[0m\n\u001b[0;32m      1\u001b[0m \u001b[0mstr2num\u001b[0m \u001b[1;33m=\u001b[0m\u001b[1;34m'2.0'\u001b[0m\u001b[1;33m\u001b[0m\u001b[1;33m\u001b[0m\u001b[0m\n\u001b[1;32m----> 2\u001b[1;33m \u001b[0mprint\u001b[0m\u001b[1;33m(\u001b[0m\u001b[0mint\u001b[0m\u001b[1;33m(\u001b[0m\u001b[0mstr2num\u001b[0m\u001b[1;33m)\u001b[0m\u001b[1;33m)\u001b[0m\u001b[1;33m\u001b[0m\u001b[1;33m\u001b[0m\u001b[0m\n\u001b[0m\u001b[0;32m      3\u001b[0m \u001b[0mprint\u001b[0m\u001b[1;33m(\u001b[0m\u001b[0mfloat\u001b[0m\u001b[1;33m(\u001b[0m\u001b[0mstr2num\u001b[0m\u001b[1;33m)\u001b[0m\u001b[1;33m)\u001b[0m\u001b[1;33m\u001b[0m\u001b[1;33m\u001b[0m\u001b[0m\n",
      "\u001b[1;31mValueError\u001b[0m: invalid literal for int() with base 10: '2.0'"
     ]
    }
   ],
   "source": [
    "str2num =\"2.0\"\n",
    "print(int(str2num))"
   ]
  },
  {
   "cell_type": "code",
   "execution_count": 19,
   "metadata": {},
   "outputs": [
    {
     "name": "stdout",
     "output_type": "stream",
     "text": [
      "2.0\n"
     ]
    }
   ],
   "source": [
    "print(float(str2num))"
   ]
  },
  {
   "cell_type": "code",
   "execution_count": 21,
   "metadata": {},
   "outputs": [
    {
     "name": "stdout",
     "output_type": "stream",
     "text": [
      "3\n"
     ]
    }
   ],
   "source": [
    "vocabulary = \"bcdefghijklmnopqrstuvwxyz\"\n",
    "print(vocabulary.index(\"d\"))"
   ]
  },
  {
   "cell_type": "code",
   "execution_count": 22,
   "metadata": {},
   "outputs": [
    {
     "name": "stdout",
     "output_type": "stream",
     "text": [
      "12\n"
     ]
    }
   ],
   "source": [
    "vocabulary = \"abcdefghijklmnopqrstuvwxyz\"\n",
    "print(vocabulary.index(\"mno\"))"
   ]
  },
  {
   "cell_type": "code",
   "execution_count": 23,
   "metadata": {},
   "outputs": [
    {
     "ename": "ValueError",
     "evalue": "substring not found",
     "output_type": "error",
     "traceback": [
      "\u001b[1;31m---------------------------------------------------------------------------\u001b[0m",
      "\u001b[1;31mValueError\u001b[0m                                Traceback (most recent call last)",
      "\u001b[1;32m<ipython-input-23-02ff5bf65220>\u001b[0m in \u001b[0;36m<module>\u001b[1;34m\u001b[0m\n\u001b[0;32m      1\u001b[0m \u001b[0mvocabulary\u001b[0m \u001b[1;33m=\u001b[0m \u001b[1;34m\"abcdefghijklmnopqrstuvwxyz\"\u001b[0m\u001b[1;33m\u001b[0m\u001b[1;33m\u001b[0m\u001b[0m\n\u001b[1;32m----> 2\u001b[1;33m \u001b[0mprint\u001b[0m\u001b[1;33m(\u001b[0m\u001b[0mvocabulary\u001b[0m\u001b[1;33m.\u001b[0m\u001b[0mindex\u001b[0m\u001b[1;33m(\u001b[0m\u001b[1;34m\"mo\"\u001b[0m\u001b[1;33m)\u001b[0m\u001b[1;33m)\u001b[0m\u001b[1;33m\u001b[0m\u001b[1;33m\u001b[0m\u001b[0m\n\u001b[0m",
      "\u001b[1;31mValueError\u001b[0m: substring not found"
     ]
    }
   ],
   "source": [
    "vocabulary = \"abcdefghijklmnopqrstuvwxyz\"\n",
    "print(vocabulary.index(\"mo\"))"
   ]
  },
  {
   "attachments": {},
   "cell_type": "markdown",
   "metadata": {},
   "source": [
    "### CH1-18. Format, fstring, and replace"
   ]
  },
  {
   "cell_type": "code",
   "execution_count": 24,
   "metadata": {},
   "outputs": [
    {
     "data": {
      "text/plain": [
       "'Joy'"
      ]
     },
     "execution_count": 24,
     "metadata": {},
     "output_type": "execute_result"
    }
   ],
   "source": [
    "name = \"Jiy\"\n",
    "print(name.replace(\"i\", \"o\"))\n",
    "# Joy\n",
    "# Return a copy with all occurences of substring old replaced by new"
   ]
  },
  {
   "cell_type": "code",
   "execution_count": 26,
   "metadata": {},
   "outputs": [
    {
     "name": "stdout",
     "output_type": "stream",
     "text": [
      "['Have', 'a', 'nice', 'day!']\n"
     ]
    }
   ],
   "source": [
    "senetence = \"Have a nice day!\"\n",
    "print(senetence.split(\" \"))"
   ]
  },
  {
   "cell_type": "code",
   "execution_count": 27,
   "metadata": {},
   "outputs": [
    {
     "name": "stdout",
     "output_type": "stream",
     "text": [
      "['H', 'a', 'v', 'e', ' ', 'a', ' ', 'n', 'i', 'c', 'e', ' ', 'd', 'a', 'y', '!']\n"
     ]
    }
   ],
   "source": [
    "sentence = \"Have a nice day!\"\n",
    "print(list(sentence))"
   ]
  },
  {
   "cell_type": "code",
   "execution_count": 36,
   "metadata": {},
   "outputs": [
    {
     "name": "stdout",
     "output_type": "stream",
     "text": [
      "Have a nice day, Joy!\n",
      "String: ['abc', 'def'].\n",
      "20 abc 3.14\n",
      "20 3.14 abc\n",
      "20 abc 3.14\n",
      "Joy: milk tea: Taiwan\n"
     ]
    }
   ],
   "source": [
    "# string, number, boolean, dict, set, tuple, lsit...\n",
    "# format(), fstring\n",
    "sentence = \"Have a nice day, {}!\".format(\"Joy\")\n",
    "print(sentence)\n",
    "# Have a nice day, Joy!\n",
    "\n",
    "another = \"String: {}.\".format([\"abc\", \"def\"])\n",
    "print(another)\n",
    "# String: ['abc', 'def'].\n",
    "\n",
    "# concat number and string\n",
    "print(\"{} {} {}\".format(20, \"abc\", 3.14))\n",
    "# 20 abc 3.14\n",
    "print(\"{0} {2} {1}\".format(20, \"abc\", 3.14))\n",
    "# 20 3.14 abc\n",
    "print(\"{} {} {}\".format(20, \"abc\", 3.14, \"++\"))\n",
    "\n",
    "print(\"{name}: {like}: {address}\".format(name=\"Joy\", like=\"milk tea\", address=\"Taiwan\"))\n",
    "\n"
   ]
  },
  {
   "cell_type": "code",
   "execution_count": 37,
   "metadata": {},
   "outputs": [
    {
     "name": "stdout",
     "output_type": "stream",
     "text": [
      "Joy: milk tea: Taiwan\n"
     ]
    }
   ],
   "source": [
    "name = \"Joy\"\n",
    "like =  \"milk tea\"\n",
    "address = \"Taiwan\"\n",
    "print(f\"{name}: {like}: {address}\")"
   ]
  },
  {
   "attachments": {},
   "cell_type": "markdown",
   "metadata": {},
   "source": [
    "### CH1-19. find, count, startwith, endwith"
   ]
  },
  {
   "cell_type": "code",
   "execution_count": 41,
   "metadata": {},
   "outputs": [
    {
     "name": "stdout",
     "output_type": "stream",
     "text": [
      "1\n",
      "1\n"
     ]
    }
   ],
   "source": [
    "string = \"Have a nice day\"\n",
    "print(string.count(\"Have\"))\n",
    "# 1 \n",
    "\n",
    "string = \"Have a nice Day!\"\n",
    "print(string.lower().count(\"have\"))\n",
    "# 1"
   ]
  },
  {
   "cell_type": "code",
   "execution_count": 42,
   "metadata": {},
   "outputs": [
    {
     "name": "stdout",
     "output_type": "stream",
     "text": [
      "-1\n"
     ]
    },
    {
     "ename": "ValueError",
     "evalue": "substring not found",
     "output_type": "error",
     "traceback": [
      "\u001b[1;31m---------------------------------------------------------------------------\u001b[0m",
      "\u001b[1;31mValueError\u001b[0m                                Traceback (most recent call last)",
      "\u001b[1;32m<ipython-input-42-50ee719fcb4b>\u001b[0m in \u001b[0;36m<module>\u001b[1;34m\u001b[0m\n\u001b[0;32m      1\u001b[0m \u001b[0mstring\u001b[0m \u001b[1;33m=\u001b[0m \u001b[1;34m\"Have a nice day\"\u001b[0m\u001b[1;33m\u001b[0m\u001b[1;33m\u001b[0m\u001b[0m\n\u001b[0;32m      2\u001b[0m \u001b[0mprint\u001b[0m\u001b[1;33m(\u001b[0m\u001b[0mstring\u001b[0m\u001b[1;33m.\u001b[0m\u001b[0mfind\u001b[0m\u001b[1;33m(\u001b[0m\u001b[1;34m\"abd\"\u001b[0m\u001b[1;33m)\u001b[0m\u001b[1;33m)\u001b[0m\u001b[1;33m\u001b[0m\u001b[1;33m\u001b[0m\u001b[0m\n\u001b[1;32m----> 3\u001b[1;33m \u001b[0mprint\u001b[0m\u001b[1;33m(\u001b[0m\u001b[0mstring\u001b[0m\u001b[1;33m.\u001b[0m\u001b[0mindex\u001b[0m\u001b[1;33m(\u001b[0m\u001b[1;34m\"abd\"\u001b[0m\u001b[1;33m)\u001b[0m\u001b[1;33m)\u001b[0m\u001b[1;33m\u001b[0m\u001b[1;33m\u001b[0m\u001b[0m\n\u001b[0m",
      "\u001b[1;31mValueError\u001b[0m: substring not found"
     ]
    }
   ],
   "source": [
    "string = \"Have a nice day\"\n",
    "print(string.find(\"abd\"))\n",
    "print(string.index(\"abd\"))"
   ]
  },
  {
   "cell_type": "code",
   "execution_count": 43,
   "metadata": {},
   "outputs": [
    {
     "name": "stdout",
     "output_type": "stream",
     "text": [
      "7\n",
      "7\n"
     ]
    }
   ],
   "source": [
    "string = \"Have a nice day\"\n",
    "print(string.find(\"nice\"))\n",
    "print(string.index(\"nice\"))"
   ]
  },
  {
   "cell_type": "code",
   "execution_count": 44,
   "metadata": {},
   "outputs": [
    {
     "name": "stdout",
     "output_type": "stream",
     "text": [
      "True\n",
      "True\n"
     ]
    }
   ],
   "source": [
    "name = \"Joy\"\n",
    "print(name.startswith(\"J\"))\n",
    "print(name.endswith(\"oy\"))"
   ]
  },
  {
   "attachments": {},
   "cell_type": "markdown",
   "metadata": {},
   "source": [
    "### CH1-20. Other Rules of Strings"
   ]
  },
  {
   "cell_type": "code",
   "execution_count": 45,
   "metadata": {},
   "outputs": [
    {
     "name": "stdout",
     "output_type": "stream",
     "text": [
      "Joy Lin\n"
     ]
    }
   ],
   "source": [
    "name = \"Joy Joy\"\n",
    "name = name[:4] + \"Lin\"\n",
    "print(name)\n",
    "# Joy Lin"
   ]
  },
  {
   "cell_type": "code",
   "execution_count": 47,
   "metadata": {},
   "outputs": [
    {
     "name": "stdout",
     "output_type": "stream",
     "text": [
      "JoyJoyJoy\n"
     ]
    }
   ],
   "source": [
    "print(\"Joy\" * 3)\n",
    "#JoyJoyJoy"
   ]
  },
  {
   "cell_type": "code",
   "execution_count": 48,
   "metadata": {},
   "outputs": [
    {
     "ename": "TypeError",
     "evalue": "can't multiply sequence by non-int of type 'float'",
     "output_type": "error",
     "traceback": [
      "\u001b[1;31m---------------------------------------------------------------------------\u001b[0m",
      "\u001b[1;31mTypeError\u001b[0m                                 Traceback (most recent call last)",
      "\u001b[1;32m<ipython-input-48-fbabe2860ba7>\u001b[0m in \u001b[0;36m<module>\u001b[1;34m\u001b[0m\n\u001b[1;32m----> 1\u001b[1;33m \u001b[0mprint\u001b[0m\u001b[1;33m(\u001b[0m\u001b[1;34m\"Joy\"\u001b[0m \u001b[1;33m*\u001b[0m \u001b[1;36m2.5\u001b[0m\u001b[1;33m)\u001b[0m\u001b[1;33m\u001b[0m\u001b[1;33m\u001b[0m\u001b[0m\n\u001b[0m\u001b[0;32m      2\u001b[0m \u001b[1;31m#JoyJoyJoy\u001b[0m\u001b[1;33m\u001b[0m\u001b[1;33m\u001b[0m\u001b[1;33m\u001b[0m\u001b[0m\n",
      "\u001b[1;31mTypeError\u001b[0m: can't multiply sequence by non-int of type 'float'"
     ]
    }
   ],
   "source": [
    "print(\"Joy\" * 2.5)\n",
    "# TypeError: can't multiply sequence by non-int of type 'float'"
   ]
  },
  {
   "cell_type": "code",
   "execution_count": 49,
   "metadata": {},
   "outputs": [
    {
     "ename": "TypeError",
     "evalue": "can't multiply sequence by non-int of type 'str'",
     "output_type": "error",
     "traceback": [
      "\u001b[1;31m---------------------------------------------------------------------------\u001b[0m",
      "\u001b[1;31mTypeError\u001b[0m                                 Traceback (most recent call last)",
      "\u001b[1;32m<ipython-input-49-decb7c32d747>\u001b[0m in \u001b[0;36m<module>\u001b[1;34m\u001b[0m\n\u001b[1;32m----> 1\u001b[1;33m \u001b[0mprint\u001b[0m\u001b[1;33m(\u001b[0m\u001b[1;34m\"Joy\"\u001b[0m \u001b[1;33m*\u001b[0m \u001b[1;34m\"3\"\u001b[0m\u001b[1;33m)\u001b[0m\u001b[1;33m\u001b[0m\u001b[1;33m\u001b[0m\u001b[0m\n\u001b[0m\u001b[0;32m      2\u001b[0m \u001b[1;31m#JoyJoyJoy\u001b[0m\u001b[1;33m\u001b[0m\u001b[1;33m\u001b[0m\u001b[1;33m\u001b[0m\u001b[0m\n",
      "\u001b[1;31mTypeError\u001b[0m: can't multiply sequence by non-int of type 'str'"
     ]
    }
   ],
   "source": [
    "print(\"Joy\" * \"3\")\n",
    "# TypeError: can't multiply sequence by non-int of type 'str'"
   ]
  },
  {
   "attachments": {},
   "cell_type": "markdown",
   "metadata": {},
   "source": [
    "### CH1-21. Intro to Lists"
   ]
  },
  {
   "cell_type": "code",
   "execution_count": 53,
   "metadata": {},
   "outputs": [
    {
     "name": "stdout",
     "output_type": "stream",
     "text": [
      "Ann, Ben, Cathy are my friends.\n",
      "3\n"
     ]
    }
   ],
   "source": [
    "friend1 = \"Ann\"\n",
    "friend2 = \"Ben\"\n",
    "friend3 = \"Cathy\"\n",
    "\n",
    "friendList = [\"Ann\", \"Ben\", \"Cathy\"]\n",
    "print(f\"{friendList[0]}, {friendList[1]}, {friendList[2]} are my friends.\")\n",
    "# Ann, Ben, Cathy are my friends.\n",
    "\n",
    "print(len(friendList))"
   ]
  },
  {
   "cell_type": "code",
   "execution_count": 54,
   "metadata": {},
   "outputs": [
    {
     "name": "stdout",
     "output_type": "stream",
     "text": [
      "[6, 5, 4, 3, 2, 1]\n"
     ]
    }
   ],
   "source": [
    "numbers = [1, 2, 3, 4, 5, 6]\n",
    "print(numbers[::-1])"
   ]
  },
  {
   "cell_type": "code",
   "execution_count": 55,
   "metadata": {},
   "outputs": [
    {
     "name": "stdout",
     "output_type": "stream",
     "text": [
      "2\n"
     ]
    }
   ],
   "source": [
    "x = [1, 2, 3, 2]\n",
    "print(x.count(2))"
   ]
  },
  {
   "cell_type": "code",
   "execution_count": 56,
   "metadata": {},
   "outputs": [
    {
     "name": "stdout",
     "output_type": "stream",
     "text": [
      "[1, 2, 1, 2, 4, 5]\n"
     ]
    }
   ],
   "source": [
    "x = [1, 2, 1]\n",
    "y = [2, 4, 5]\n",
    "print(x + y)"
   ]
  },
  {
   "cell_type": "code",
   "execution_count": 57,
   "metadata": {},
   "outputs": [
    {
     "name": "stdout",
     "output_type": "stream",
     "text": [
      "[1, 2, 1, 1, 2, 1, 1, 2, 1]\n"
     ]
    }
   ],
   "source": [
    "x = [1, 2, 1]\n",
    "print(x * 3)"
   ]
  },
  {
   "cell_type": "code",
   "execution_count": 58,
   "metadata": {},
   "outputs": [
    {
     "name": "stdout",
     "output_type": "stream",
     "text": [
      "[1, 10, 1]\n"
     ]
    }
   ],
   "source": [
    "x = [1, 2, 1]\n",
    "x[1] = 10\n",
    "print(x)\n",
    "# [1, 10, 1]"
   ]
  },
  {
   "attachments": {},
   "cell_type": "markdown",
   "metadata": {},
   "source": [
    "### CH1-22. List Functions I"
   ]
  },
  {
   "cell_type": "code",
   "execution_count": 60,
   "metadata": {},
   "outputs": [
    {
     "name": "stdout",
     "output_type": "stream",
     "text": [
      "['Joy', 'Ann', 'May', 'John']\n"
     ]
    }
   ],
   "source": [
    "friends = ['Joy', 'Ann', 'John']\n",
    "friends.insert(2, 'May')\n",
    "print(friends)\n",
    "# ['Joy', 'Ann', 'May', 'John']"
   ]
  },
  {
   "cell_type": "code",
   "execution_count": 63,
   "metadata": {},
   "outputs": [
    {
     "name": "stdout",
     "output_type": "stream",
     "text": [
      "['Joy', 'Ann', 'May', 'John']\n",
      "['Joy', 'Ann', 'John']\n"
     ]
    },
    {
     "ename": "ValueError",
     "evalue": "list.remove(x): x not in list",
     "output_type": "error",
     "traceback": [
      "\u001b[1;31m---------------------------------------------------------------------------\u001b[0m",
      "\u001b[1;31mValueError\u001b[0m                                Traceback (most recent call last)",
      "\u001b[1;32m<ipython-input-63-d183ce28f619>\u001b[0m in \u001b[0;36m<module>\u001b[1;34m\u001b[0m\n\u001b[0;32m      7\u001b[0m \u001b[0mprint\u001b[0m\u001b[1;33m(\u001b[0m\u001b[0mfriends\u001b[0m\u001b[1;33m)\u001b[0m\u001b[1;33m\u001b[0m\u001b[1;33m\u001b[0m\u001b[0m\n\u001b[0;32m      8\u001b[0m \u001b[1;31m# ['Joy', 'Ann', 'John']\u001b[0m\u001b[1;33m\u001b[0m\u001b[1;33m\u001b[0m\u001b[1;33m\u001b[0m\u001b[0m\n\u001b[1;32m----> 9\u001b[1;33m \u001b[0mfriends\u001b[0m\u001b[1;33m.\u001b[0m\u001b[0mremove\u001b[0m\u001b[1;33m(\u001b[0m\u001b[1;34m'Other'\u001b[0m\u001b[1;33m)\u001b[0m\u001b[1;33m\u001b[0m\u001b[1;33m\u001b[0m\u001b[0m\n\u001b[0m\u001b[0;32m     10\u001b[0m \u001b[0mprint\u001b[0m\u001b[1;33m(\u001b[0m\u001b[0mfriends\u001b[0m\u001b[1;33m)\u001b[0m\u001b[1;33m\u001b[0m\u001b[1;33m\u001b[0m\u001b[0m\n",
      "\u001b[1;31mValueError\u001b[0m: list.remove(x): x not in list"
     ]
    }
   ],
   "source": [
    "friends = ['Joy', 'Ann', 'John']\n",
    "friends.insert(2, 'May')\n",
    "print(friends)\n",
    "# ['Joy', 'Ann', 'May', 'John']\n",
    "\n",
    "friends.remove('May')\n",
    "print(friends)\n",
    "# ['Joy', 'Ann', 'John']\n",
    "friends.remove('Other')\n",
    "print(friends)\n",
    "# ValueError: list.remove(x): x not in list"
   ]
  },
  {
   "cell_type": "code",
   "execution_count": 64,
   "metadata": {},
   "outputs": [
    {
     "name": "stdout",
     "output_type": "stream",
     "text": [
      "[]\n"
     ]
    }
   ],
   "source": [
    "vocabulary = [\"a\", \"b\"]\n",
    "vocabulary.clear()\n",
    "print(vocabulary)\n",
    "# []"
   ]
  },
  {
   "cell_type": "code",
   "execution_count": 65,
   "metadata": {},
   "outputs": [
    {
     "name": "stdout",
     "output_type": "stream",
     "text": [
      "['Ann', 'John', 'Joy']\n"
     ]
    }
   ],
   "source": [
    "friends = ['Joy', 'Ann', 'John']\n",
    "friends.sort()\n",
    "print(friends)\n",
    "# ['Ann', 'John', 'Joy']"
   ]
  },
  {
   "cell_type": "code",
   "execution_count": 68,
   "metadata": {},
   "outputs": [
    {
     "name": "stdout",
     "output_type": "stream",
     "text": [
      "[-55, -1, 1, 2, 10, 100]\n"
     ]
    }
   ],
   "source": [
    "numbers = [1, 2, -1, 10, -55, 100]\n",
    "numbers.sort()\n",
    "print(numbers)\n",
    "# [-55, -1, 1, 2, 10, 100]"
   ]
  },
  {
   "cell_type": "code",
   "execution_count": 69,
   "metadata": {},
   "outputs": [
    {
     "name": "stdout",
     "output_type": "stream",
     "text": [
      "['John', 'Ann', 'Joy']\n"
     ]
    }
   ],
   "source": [
    "friends = ['Joy', 'Ann', 'John']\n",
    "friends.reverse()\n",
    "print(friends)\n",
    "# ['John', 'Ann', 'Joy']"
   ]
  },
  {
   "cell_type": "code",
   "execution_count": 70,
   "metadata": {},
   "outputs": [
    {
     "name": "stdout",
     "output_type": "stream",
     "text": [
      "['Joy', 'Ann', 'John']\n"
     ]
    }
   ],
   "source": [
    "print(friends[::-1])"
   ]
  },
  {
   "attachments": {},
   "cell_type": "markdown",
   "metadata": {},
   "source": [
    "### CH1-23. List Functions II"
   ]
  },
  {
   "cell_type": "code",
   "execution_count": 71,
   "metadata": {},
   "outputs": [
    {
     "name": "stdout",
     "output_type": "stream",
     "text": [
      "['Joy', 'Ann', 'John', 'Ben']\n"
     ]
    }
   ],
   "source": [
    "friends = ['Joy', 'Ann', 'John']\n",
    "friends.append('Ben')\n",
    "print(friends)\n",
    "# ['Joy', 'Ann', 'John', 'Ben']"
   ]
  },
  {
   "cell_type": "code",
   "execution_count": 72,
   "metadata": {},
   "outputs": [
    {
     "name": "stdout",
     "output_type": "stream",
     "text": [
      "['Joy', 'Ann']\n"
     ]
    }
   ],
   "source": [
    "friends = ['Joy', 'Ann', 'John']\n",
    "friends.pop()\n",
    "print(friends)"
   ]
  },
  {
   "cell_type": "code",
   "execution_count": 74,
   "metadata": {},
   "outputs": [
    {
     "name": "stdout",
     "output_type": "stream",
     "text": [
      "['Joy', 'Ann']\n"
     ]
    }
   ],
   "source": [
    "friends = ['Joy', 'Ann', 'John']\n",
    "friends.pop()\n",
    "print(friends)\n",
    "# ['Joy', 'Ann']"
   ]
  },
  {
   "cell_type": "code",
   "execution_count": 75,
   "metadata": {},
   "outputs": [
    {
     "name": "stdout",
     "output_type": "stream",
     "text": [
      "John\n"
     ]
    }
   ],
   "source": [
    "friends = ['Joy', 'Ann', 'John']\n",
    "my_lost_friend = friends.pop()\n",
    "print(my_lost_friend)\n",
    "# John"
   ]
  },
  {
   "cell_type": "code",
   "execution_count": 76,
   "metadata": {},
   "outputs": [
    {
     "name": "stdout",
     "output_type": "stream",
     "text": [
      "[15, 2, 3, 4, 5, 6]\n",
      "[15, 2, 3, 4, 5, 6]\n"
     ]
    }
   ],
   "source": [
    "x = [1, 2, 3, 4, 5, 6]\n",
    "y = x       # 預想: y = [1, 2, 3, 4, 5, 6]\n",
    "y[0] = 15   # 預想: y = [15, 2, 3, 4, 5, 6]\n",
    "print(x)    # [1, 2, 3, 4, 5, 6]\n",
    "print(y)    # [15, 2, 3, 4, 5, 6]\n",
    "\n",
    "# 實際都為: [15, 2, 3, 4, 5, 6]\n",
    "\n",
    "print(\"----------------------------------------------\")\n",
    "a = 10\n",
    "b = a    # 10\n",
    "b = 15   \n",
    "print(a) # 10  or a = 15 ?\n",
    "print(b) # 15\n"
   ]
  },
  {
   "cell_type": "code",
   "execution_count": 77,
   "metadata": {},
   "outputs": [
    {
     "name": "stdout",
     "output_type": "stream",
     "text": [
      "[1, 2, 3, 4, 5, 6]\n",
      "[15, 2, 3, 4, 5, 6]\n"
     ]
    }
   ],
   "source": [
    "x = [1, 2, 3, 4, 5, 6]\n",
    "y = x.copy()       \n",
    "y[0] = 15   \n",
    "print(x)    # [1, 2, 3, 4, 5, 6]\n",
    "print(y)    # [15, 2, 3, 4, 5, 6]\n"
   ]
  },
  {
   "cell_type": "code",
   "execution_count": 82,
   "metadata": {},
   "outputs": [
    {
     "name": "stdout",
     "output_type": "stream",
     "text": [
      "5\n",
      "10\n",
      "10\n"
     ]
    }
   ],
   "source": [
    "# List of lsits\n",
    "x = [1, 2, [4, 5, 6], 2, 1, [1, 2, 3]]\n",
    "# how to get 5 ?\n",
    "print(x[2][1])\n",
    "# 5\n",
    "\n",
    "# how to get 10 as soon as possible ?\n",
    "y = [1, 2, 3, 4, 5, 6, 7, -1, -3, 8 ,9, 10]\n",
    "print(y[-1]) \n",
    "# 10\n",
    "print(y[len(y) - 1])\n",
    "# 10"
   ]
  },
  {
   "attachments": {},
   "cell_type": "markdown",
   "metadata": {},
   "source": [
    "### CH1-24. Intro to dicts"
   ]
  },
  {
   "cell_type": "code",
   "execution_count": 85,
   "metadata": {},
   "outputs": [
    {
     "name": "stdout",
     "output_type": "stream",
     "text": [
      "Joy\n",
      "30\n"
     ]
    }
   ],
   "source": [
    "person = {\"name\": \"Joy\", \"age\": 25}\n",
    "print(person[\"name\"])\n",
    "# Joy\n",
    "\n",
    "person1 = {\"x\": {\"age\": [10, 20, 30]}}\n",
    "print(person1[\"x\"][\"age\"][2])\n",
    "# 30"
   ]
  },
  {
   "cell_type": "code",
   "execution_count": 86,
   "metadata": {},
   "outputs": [
    {
     "name": "stdout",
     "output_type": "stream",
     "text": [
      "{'name': 'Ann', 'age': 25}\n"
     ]
    }
   ],
   "source": [
    "x = {}\n",
    "x[\"name\"] = \"Ann\"\n",
    "x[\"age\"] = 25\n",
    "print(x)\n",
    "# {'name': 'Ann', 'age': 25}"
   ]
  },
  {
   "attachments": {},
   "cell_type": "markdown",
   "metadata": {},
   "source": [
    "### CH1-25. Dicts Functions"
   ]
  },
  {
   "cell_type": "code",
   "execution_count": 90,
   "metadata": {},
   "outputs": [
    {
     "name": "stdout",
     "output_type": "stream",
     "text": [
      "dict_keys(['name', 'age'])\n",
      "dict_values(['Joy', 25])\n",
      "dict_items([('name', 'Joy'), ('age', 25)])\n"
     ]
    }
   ],
   "source": [
    "x = {'name': 'Joy', 'age': 25}\n",
    "print(x.keys())\n",
    "# dict_keys(['name', 'age'])\n",
    "print(x.values())\n",
    "# dict_values(['Joy', 25])\n",
    "\n",
    "print(x.items()) # something like a list of tuples\n",
    "# dict_items([('name', 'Joy'), ('age', 25)])"
   ]
  },
  {
   "attachments": {},
   "cell_type": "markdown",
   "metadata": {},
   "source": [
    "### CH1-27. Intro to Tuples"
   ]
  },
  {
   "cell_type": "code",
   "execution_count": 94,
   "metadata": {},
   "outputs": [
    {
     "name": "stdout",
     "output_type": "stream",
     "text": [
      "3\n",
      "10\n",
      "(10, '100')\n",
      "1\n",
      "1\n"
     ]
    }
   ],
   "source": [
    "x = (10, \"100\", \"Hello\")\n",
    "print(len(x))\n",
    "# 3\n",
    "print(x[0])\n",
    "# 10\n",
    "print(x[0:2])\n",
    "# (10, \"100\")\n",
    "print(x.count(10))\n",
    "# 1\n",
    "print(x.index(\"100\"))\n",
    "# 1"
   ]
  },
  {
   "attachments": {},
   "cell_type": "markdown",
   "metadata": {},
   "source": [
    "### CH1-28. Tuple packing and Tuple Unpacking"
   ]
  },
  {
   "cell_type": "code",
   "execution_count": 96,
   "metadata": {},
   "outputs": [
    {
     "name": "stdout",
     "output_type": "stream",
     "text": [
      "(10, 15)\n",
      "<class 'tuple'>\n"
     ]
    }
   ],
   "source": [
    "x = 10, 15 # tuple pakcing\n",
    "print(x)\n",
    "# (10, 15)\n",
    "print(type(x))\n",
    "# <class 'tuple'>"
   ]
  },
  {
   "cell_type": "code",
   "execution_count": 98,
   "metadata": {},
   "outputs": [
    {
     "name": "stdout",
     "output_type": "stream",
     "text": [
      "Joy\n",
      "10\n",
      "Joy\n",
      "10\n"
     ]
    }
   ],
   "source": [
    "x = (\"Joy\", \"10\")\n",
    "print(x[0])\n",
    "print(x[1])\n",
    "\n",
    "# tuple unpacking\n",
    "name, age = x\n",
    "print(name)\n",
    "# Joy\n",
    "print(age)\n",
    "# 10"
   ]
  },
  {
   "cell_type": "code",
   "execution_count": 100,
   "metadata": {},
   "outputs": [
    {
     "name": "stdout",
     "output_type": "stream",
     "text": [
      "x: 35, y: 25\n"
     ]
    }
   ],
   "source": [
    "x = 25\n",
    "y = 35\n",
    "# how to change to y = 25, x = 35?\n",
    "y, x = x, y\n",
    "print(f\"x: {x}, y: {y}\")\n",
    "# x: 35, y: 25"
   ]
  },
  {
   "cell_type": "code",
   "execution_count": 103,
   "metadata": {},
   "outputs": [
    {
     "name": "stdout",
     "output_type": "stream",
     "text": [
      "35 25\n"
     ]
    }
   ],
   "source": [
    "x = 25\n",
    "y = 35\n",
    "# how to change to y = 25, x = 35?\n",
    "#1\n",
    "temp = y\n",
    "y = x\n",
    "x = temp\n",
    "print(x, y)"
   ]
  },
  {
   "attachments": {},
   "cell_type": "markdown",
   "metadata": {},
   "source": [
    "### CH1-29. Mutable objects in tuples"
   ]
  },
  {
   "cell_type": "code",
   "execution_count": 106,
   "metadata": {},
   "outputs": [
    {
     "name": "stdout",
     "output_type": "stream",
     "text": [
      "([1, 100, 3], 'Joy')\n"
     ]
    }
   ],
   "source": [
    "a = ([1, 2, 3], \"Joy\")\n",
    "a[0] = \"Grace\"\n",
    "print(a)\n",
    "# TypeError: 'tuple' object does not support item assignment\n",
    "\n",
    "a[0][1] = 100\n",
    "print(a)\n",
    "# ([1, 100, 3], 'Joy')"
   ]
  },
  {
   "attachments": {},
   "cell_type": "markdown",
   "metadata": {},
   "source": [
    "### CH1-30. Intro to Sets"
   ]
  },
  {
   "cell_type": "code",
   "execution_count": 1,
   "metadata": {},
   "outputs": [
    {
     "name": "stdout",
     "output_type": "stream",
     "text": [
      "set()\n"
     ]
    }
   ],
   "source": [
    "mySet = set()  # not equal to mySet = {}\n",
    "print(mySet)\n",
    "# set()"
   ]
  },
  {
   "cell_type": "code",
   "execution_count": 3,
   "metadata": {},
   "outputs": [
    {
     "name": "stdout",
     "output_type": "stream",
     "text": [
      "{1, 2, 3}\n"
     ]
    }
   ],
   "source": [
    "mySet = set({1, 2, 3})\n",
    "print(mySet)\n",
    "# {1, 2, 3}"
   ]
  },
  {
   "cell_type": "code",
   "execution_count": 4,
   "metadata": {},
   "outputs": [
    {
     "name": "stdout",
     "output_type": "stream",
     "text": [
      "{1, 2, 3, 4, 5}\n"
     ]
    }
   ],
   "source": [
    "myList = [1, 2, 3, 3, 4, 2, 1, 5,3]\n",
    "print(set(myList))\n",
    "# {1, 2, 3, 4, 5}"
   ]
  },
  {
   "cell_type": "code",
   "execution_count": 11,
   "metadata": {},
   "outputs": [
    {
     "name": "stdout",
     "output_type": "stream",
     "text": [
      "set()\n",
      "{1}\n",
      "{1, 2}\n",
      "{2}\n",
      "set()\n"
     ]
    }
   ],
   "source": [
    "s = set()\n",
    "print(s) \n",
    "# set()\n",
    "\n",
    "s.add(1)\n",
    "print(s)\n",
    "# {1}\n",
    "\n",
    "s.add(2)\n",
    "print(s)\n",
    "# {1, 2}\n",
    "\n",
    "s.discard(1)\n",
    "print(s)\n",
    "# {2}\n",
    "\n",
    "s.clear()\n",
    "print(s)\n",
    "# set()"
   ]
  },
  {
   "attachments": {},
   "cell_type": "markdown",
   "metadata": {},
   "source": [
    "### CH1-31. Built-in Set Methods"
   ]
  },
  {
   "cell_type": "code",
   "execution_count": 15,
   "metadata": {},
   "outputs": [
    {
     "name": "stdout",
     "output_type": "stream",
     "text": [
      "{1, 5}\n",
      "{8, 7}\n",
      "{3, 4}\n",
      "{3, 4}\n",
      "{1, 3, 4, 5, 7, 8}\n",
      "{1, 3, 4, 5, 7, 8}\n"
     ]
    }
   ],
   "source": [
    "a = set({1, 3, 4, 5})\n",
    "b = {3, 4, 7, 8} #可以這樣寫或像上一行那樣寫\n",
    "print(a.difference(b)) # A-B\n",
    "# {1, 5}\n",
    "print(b.difference(a)) # B-A\n",
    "# {8, 7}\n",
    "print(a.intersection(b))\n",
    "# {3, 4}\n",
    "print(b.intersection(a))\n",
    "# {3, 4}\n",
    "print(a.union(b))\n",
    "# {1, 3, 4, 5, 7, 8}\n",
    "print(b.union(a))\n",
    "# {1, 3, 4, 5, 7, 8}"
   ]
  },
  {
   "attachments": {},
   "cell_type": "markdown",
   "metadata": {},
   "source": [
    "### CH1-32. Booleans in Python"
   ]
  },
  {
   "attachments": {},
   "cell_type": "markdown",
   "metadata": {},
   "source": [
    "### CH1-33. Python Comments and Type-checking"
   ]
  },
  {
   "cell_type": "code",
   "execution_count": 16,
   "metadata": {},
   "outputs": [
    {
     "name": "stdout",
     "output_type": "stream",
     "text": [
      "<class 'str'>\n",
      "<class 'int'>\n"
     ]
    }
   ],
   "source": [
    "x = \"Joy\"\n",
    "print(type(x))\n",
    "# <class 'str'>\n",
    "\n",
    "x = 3\n",
    "print(type(x))\n",
    "# <class 'list'>"
   ]
  },
  {
   "attachments": {},
   "cell_type": "markdown",
   "metadata": {},
   "source": [
    "### CH1-34. Additional Information"
   ]
  },
  {
   "cell_type": "code",
   "execution_count": 17,
   "metadata": {},
   "outputs": [
    {
     "name": "stdout",
     "output_type": "stream",
     "text": [
      "(8-3j)\n"
     ]
    }
   ],
   "source": [
    "x = 3 + 4j\n",
    "y = 5 - 7j\n",
    "print(x + y)\n",
    "# (8 - 3j)"
   ]
  },
  {
   "cell_type": "code",
   "execution_count": 19,
   "metadata": {},
   "outputs": [
    {
     "name": "stdout",
     "output_type": "stream",
     "text": [
      "<function hello at 0x000001DB7D7AF1F8>\n",
      "hello\n",
      "None\n"
     ]
    }
   ],
   "source": [
    "def hello():       # hello is stored in RAM\n",
    "    print(\"hello\")\n",
    "\n",
    "print(hello) # 不是在執行hello這個function，是在print hello在記憶體的位置\n",
    "# <function hello at 0x000001DB7D7AF0D8>\n",
    "\n",
    "\n",
    "print(hello())\n",
    "# hello  因為在hello函數中有一個 print(\"hello\")\n",
    "# None   執行hello這個function後如果沒有特別指名要return什麼，就會return一個None"
   ]
  },
  {
   "cell_type": "code",
   "execution_count": 20,
   "metadata": {},
   "outputs": [
    {
     "name": "stdout",
     "output_type": "stream",
     "text": [
      "5.551115123125783e-17\n"
     ]
    }
   ],
   "source": [
    "print(0.1 + 0.2 - 0.3)"
   ]
  },
  {
   "cell_type": "code",
   "execution_count": 21,
   "metadata": {},
   "outputs": [
    {
     "name": "stdout",
     "output_type": "stream",
     "text": [
      "a|b|c|d\n"
     ]
    }
   ],
   "source": [
    "myList = [\"a\", \"b\", \"c\", \"d\"]\n",
    "myString = \"|\".join(myList)\n",
    "print(myString)\n",
    "# a|b|c|d"
   ]
  },
  {
   "attachments": {},
   "cell_type": "markdown",
   "metadata": {},
   "source": [
    "### CH1-35. Value, Reference, Sorted"
   ]
  },
  {
   "cell_type": "code",
   "execution_count": 3,
   "metadata": {},
   "outputs": [
    {
     "name": "stdout",
     "output_type": "stream",
     "text": [
      "the list x is  [1, 3, 2, 4] . Also, the list y is  [1, 2, 3, 4]\n",
      "the list x is  [1, 3, 2, 4] . Also, the list y is  [4, 3, 2, 1]\n"
     ]
    }
   ],
   "source": [
    "x = [1, 3, 2, 4]\n",
    "y = sorted(x)\n",
    "print(\"the list x is \", x, \". Also, the list y is \", y)\n",
    "# the list x is  [1, 3, 2, 4] . Also, the list y is  [1, 2, 3, 4]\n",
    "\n",
    "y1 = sorted(x, reverse=True) # keyword arguments  # True is a boolean value, need to start with uppercase\n",
    "print(\"the list x is \", x, \". Also, the list y is \", y1)\n",
    "# the list x is  [1, 3, 2, 4] . Also, the list y is  [4, 3, 2, 1]\n"
   ]
  },
  {
   "cell_type": "code",
   "execution_count": 8,
   "metadata": {},
   "outputs": [
    {
     "name": "stdout",
     "output_type": "stream",
     "text": [
      "the tuple x is  (4, 2, 3, 1) . Also, the list y is  [1, 2, 3, 4]\n",
      "the dict x is  {'name': 'Joy', 'age': 10} . Also, the list y is  ['age', 'name']\n",
      "the set x is  {1, 2, 3, 4, 5} . Also, the list y is  [1, 2, 3, 4, 5]\n",
      "the string x is  How are you doing today . Also, the list y is  [' ', ' ', ' ', ' ', 'H', 'a', 'a', 'd', 'd', 'e', 'g', 'i', 'n', 'o', 'o', 'o', 'o', 'r', 't', 'u', 'w', 'y', 'y']\n"
     ]
    }
   ],
   "source": [
    "# tuple \n",
    "x = (4, 2, 3, 1)\n",
    "y = sorted(x)\n",
    "print(\"the tuple x is \", x, \". Also, the list y is \", y)\n",
    "# the tuple x is  (4, 2, 3, 1) . Also, the list y is  [1, 2, 3, 4]\n",
    "\n",
    "# dict\n",
    "x1 = {\"name\": \"Joy\", \"age\": 10}\n",
    "y1 = sorted(x1) # 只會排序 key\n",
    "print(\"the dict x is \", x1, \". Also, the list y is \", y1)\n",
    "# the dict x is  {'name': 'Joy', 'age': 10} . Also, the list y is  ['age', 'name']\n",
    "\n",
    "# set (unordered collection of unique objects)\n",
    "x2 = {4, 5, 3, 2, 1}\n",
    "y2 = sorted(x2)\n",
    "print(\"the set x is \", x2, \". Also, the list y is \", y2)\n",
    "# the set x is  {1, 2, 3, 4, 5} . Also, the list y is  [1, 2, 3, 4, 5]\n",
    "# x 本身在set的時候就會自己排好\n",
    "\n",
    "# string\n",
    "x3 = \"How are you doing today\"\n",
    "y3 = sorted(x3)\n",
    "print(\"the string x is \", x3, \". Also, the list y is \", y3)\n",
    "# the string x is  How are you doing today . \n",
    "# Also, the list y is  [' ', ' ', ' ', ' ', 'H', 'a', 'a', 'd', 'd', 'e', 'g', 'i', 'n', 'o', 'o', 'o', 'o', 'r', 't', 'u', 'w', 'y', 'y']\n",
    "# 把英文字母排整齊\n"
   ]
  },
  {
   "attachments": {},
   "cell_type": "markdown",
   "metadata": {},
   "source": [
    "### CH1-36. Membership Operator"
   ]
  },
  {
   "cell_type": "code",
   "execution_count": 12,
   "metadata": {},
   "outputs": [
    {
     "name": "stdout",
     "output_type": "stream",
     "text": [
      "A is in ABCD\n",
      "A is in {'A', 'C', 'B'}\n",
      "A is in ['A', 'B', 'C']\n"
     ]
    }
   ],
   "source": [
    "a = \"ABCD\"\n",
    "\n",
    "if \"A\" in a:\n",
    "    print(\"A is in\", a)\n",
    "# A is in ABCD\n",
    "\n",
    "b = {\"A\", \"B\", \"C\"}\n",
    "if \"A\" in b:\n",
    "    print(\"A is in\", b)\n",
    "# A is in {'A', 'C', 'B'}\n",
    "\n",
    "c = [\"A\", \"B\", \"C\"]\n",
    "if \"A\" in c:\n",
    "    print(\"A is in\", c)\n",
    "# A is in ['A', 'B', 'C']\n",
    "\n",
    "if \"D\" in c:\n",
    "    print(\"D is in\", c)\n",
    "# c裡面沒有D，所以不會回傳任何結果(因沒有設定 else的條件)"
   ]
  },
  {
   "cell_type": "code",
   "execution_count": 13,
   "metadata": {},
   "outputs": [
    {
     "name": "stdout",
     "output_type": "stream",
     "text": [
      "False\n"
     ]
    }
   ],
   "source": [
    "myString = \"Today is a good day. The weather in Hawaii is not bad\"\n",
    "\n",
    "isIn = False\n",
    "for i in range(len(myString)):\n",
    "    if \"A\" == myString[i]:\n",
    "        isIn = True\n",
    "print(isIn)"
   ]
  }
 ],
 "metadata": {
  "kernelspec": {
   "display_name": "base",
   "language": "python",
   "name": "python3"
  },
  "language_info": {
   "codemirror_mode": {
    "name": "ipython",
    "version": 3
   },
   "file_extension": ".py",
   "mimetype": "text/x-python",
   "name": "python",
   "nbconvert_exporter": "python",
   "pygments_lexer": "ipython3",
   "version": "3.7.6"
  },
  "orig_nbformat": 4,
  "vscode": {
   "interpreter": {
    "hash": "263930470851f494f0ed2879c35b57985588df20f9e529b86e97dd5eb9ddc466"
   }
  }
 },
 "nbformat": 4,
 "nbformat_minor": 2
}
