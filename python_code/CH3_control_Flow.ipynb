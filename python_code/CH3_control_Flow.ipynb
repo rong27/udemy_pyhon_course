{
 "cells": [
  {
   "cell_type": "code",
   "execution_count": null,
   "metadata": {},
   "outputs": [],
   "source": [
    "# age < 8 => free\n",
    "# age >= 8 and age < 65 => 300\n",
    "# age >= 65 =>half\n",
    "\n",
    "age = 5\n",
    "\n",
    "if age < 8:\n",
    "    print(\"Movie is free for you\")\n",
    "elif 8 <= age < 65:\n",
    "    print(\"You need to pay $300\")\n",
    "else:\n",
    "    print(\"You need to pay $150\")"
   ]
  },
  {
   "cell_type": "code",
   "execution_count": 1,
   "metadata": {},
   "outputs": [
    {
     "name": "stdout",
     "output_type": "stream",
     "text": [
      "Movie is free for you\n"
     ]
    }
   ],
   "source": [
    "# age < 8 => free\n",
    "# age >= 8 and age < 65 => 300\n",
    "# age >= 65 =>half\n",
    "\n",
    "age = 5\n",
    "\n",
    "if age < 8:\n",
    "    print(\"Movie is free for you\")\n",
    "elif 8 <= age < 65:\n",
    "    print(\"You need to pay $300\")\n",
    "else:\n",
    "    print(\"You need to pay $150\")"
   ]
  },
  {
   "cell_type": "code",
   "execution_count": 3,
   "metadata": {},
   "outputs": [
    {
     "name": "stdout",
     "output_type": "stream",
     "text": [
      "the condition is false\n"
     ]
    }
   ],
   "source": [
    "if (5 > 3) and []:\n",
    "#  _______ logical operator\n",
    "#              ___ falsy value\n",
    "    print(\"the condition is true\")\n",
    "else:\n",
    "    print(\"the condition is false\")\n",
    "# the condition is false"
   ]
  },
  {
   "cell_type": "code",
   "execution_count": null,
   "metadata": {},
   "outputs": [],
   "source": [
    "\n",
    "if k == True:\n",
    "    print(\"Variable k is true\")\n",
    "else:\n",
    "    print(\"Variable k is false\")"
   ]
  },
  {
   "cell_type": "code",
   "execution_count": 2,
   "metadata": {},
   "outputs": [
    {
     "name": "stdout",
     "output_type": "stream",
     "text": [
      "Variable k is true\n"
     ]
    }
   ],
   "source": [
    "# 另種簡潔寫法 (較好)\n",
    "k = True\n",
    "\n",
    "if k :\n",
    "    print(\"Variable k is true\")\n",
    "else:\n",
    "    print(\"Variable k is false\")"
   ]
  },
  {
   "attachments": {},
   "cell_type": "markdown",
   "metadata": {},
   "source": [
    "#### **CH3-42 Breakfast Program**"
   ]
  },
  {
   "cell_type": "code",
   "execution_count": 4,
   "metadata": {},
   "outputs": [
    {
     "name": "stdout",
     "output_type": "stream",
     "text": [
      "You are hungry.\n"
     ]
    }
   ],
   "source": [
    "name = input(\"Enter your name: \")\n",
    "money = int(input(\"Enter your cash amount \"))\n",
    "hungry = input(\"Are you hungry? (Y/N) \")\n",
    "\n",
    "if hungry == \"Y\":\n",
    "    print(\"You are hungry.\")\n",
    "elif hungry == \"N\":\n",
    "    print(\"You are not hungry\")\n",
    "else:\n",
    "    print(\"Please make sure that you enter either Y or N\")"
   ]
  },
  {
   "attachments": {},
   "cell_type": "markdown",
   "metadata": {},
   "source": [
    "#### **CH3-43 For Loop**"
   ]
  },
  {
   "cell_type": "code",
   "execution_count": 5,
   "metadata": {},
   "outputs": [
    {
     "name": "stdout",
     "output_type": "stream",
     "text": [
      "H\n",
      "e\n",
      "l\n",
      "l\n",
      "o\n",
      " \n",
      "W\n",
      "o\n",
      "r\n",
      "l\n",
      "d\n"
     ]
    }
   ],
   "source": [
    "# for variable in iterable:\n",
    "#    do something\n",
    "\n",
    "for letter in \"Hello World\":\n",
    "    print(letter)"
   ]
  },
  {
   "cell_type": "code",
   "execution_count": 6,
   "metadata": {},
   "outputs": [
    {
     "name": "stdout",
     "output_type": "stream",
     "text": [
      "3\n",
      "8\n",
      "12\n"
     ]
    }
   ],
   "source": [
    "# a list of tuples\n",
    "# tuple unpakcing\n",
    "for a, b in [(1, 2), (3, 5), (5, 7)]:\n",
    "    print(a + b)"
   ]
  },
  {
   "cell_type": "code",
   "execution_count": 7,
   "metadata": {},
   "outputs": [
    {
     "name": "stdout",
     "output_type": "stream",
     "text": [
      "3\n",
      "8\n",
      "12\n"
     ]
    }
   ],
   "source": [
    "for tuple in [(1, 2), (3, 5), (5, 7)]:\n",
    "    print(tuple[0] + tuple[1]) "
   ]
  },
  {
   "cell_type": "code",
   "execution_count": 11,
   "metadata": {},
   "outputs": [
    {
     "name": "stdout",
     "output_type": "stream",
     "text": [
      "('name', 'Joy')\n",
      "('age', 20)\n",
      "The key is name\n",
      "The value is Joy\n",
      "The key is age\n",
      "The value is 20\n"
     ]
    }
   ],
   "source": [
    "# dictionary (keys)\n",
    "myDict = {\"name\": \"Joy\", \"age\":20}\n",
    "\n",
    "for item in myDict.items():\n",
    "    print(item) # 回傳 tuple\n",
    "\n",
    "\n",
    "for key, value in myDict.items():\n",
    "    print(f\"The key is {key}\")\n",
    "    print(f\"The value is {value}\")"
   ]
  },
  {
   "cell_type": "code",
   "execution_count": 13,
   "metadata": {},
   "outputs": [
    {
     "name": "stdout",
     "output_type": "stream",
     "text": [
      "1\n",
      "2\n",
      "3\n",
      "4\n",
      "5\n"
     ]
    }
   ],
   "source": [
    "# set\n",
    "for i in {1, 2, 3, 4, 5, 5 ,1 ,2}:\n",
    "    print(i)"
   ]
  },
  {
   "attachments": {},
   "cell_type": "markdown",
   "metadata": {},
   "source": [
    "#### **CH3-46 PASS**"
   ]
  },
  {
   "cell_type": "code",
   "execution_count": 2,
   "metadata": {},
   "outputs": [],
   "source": [
    "for i in \"How are you?\":\n",
    "    pass\n"
   ]
  },
  {
   "cell_type": "code",
   "execution_count": null,
   "metadata": {},
   "outputs": [],
   "source": [
    "if True:\n",
    "    pass"
   ]
  },
  {
   "attachments": {},
   "cell_type": "markdown",
   "metadata": {},
   "source": [
    "#### **CH3-46 Break**"
   ]
  },
  {
   "cell_type": "code",
   "execution_count": 5,
   "metadata": {},
   "outputs": [
    {
     "name": "stdout",
     "output_type": "stream",
     "text": [
      "1\n",
      "2\n",
      "3\n",
      "4\n"
     ]
    }
   ],
   "source": [
    "for i in \"123456789\":\n",
    "    if i == \"5\":\n",
    "        break      # 到5的時候會 break 這個 for loop\n",
    "    else:\n",
    "        print(i)"
   ]
  },
  {
   "cell_type": "code",
   "execution_count": null,
   "metadata": {},
   "outputs": [],
   "source": [
    "# nested loop with break\n",
    "for i in \"123456\":\n",
    "    for j in \"abcdefg\":\n",
    "        if j == \"c\":\n",
    "            break        # 只會影響 j 的 for loop\n",
    "        else:\n",
    "            print(i, j)"
   ]
  },
  {
   "attachments": {},
   "cell_type": "markdown",
   "metadata": {},
   "source": [
    "#### **CH3-46 Continue**"
   ]
  },
  {
   "cell_type": "code",
   "execution_count": 6,
   "metadata": {},
   "outputs": [
    {
     "name": "stdout",
     "output_type": "stream",
     "text": [
      "A\n",
      "C\n",
      "D\n",
      "E\n"
     ]
    }
   ],
   "source": [
    "for i in \"ABCDE\":\n",
    "    if i == \"B\":\n",
    "        continue  # 當 i 等於 B 的時候就去執行下一個 iteration\n",
    "    print(i)"
   ]
  },
  {
   "cell_type": "code",
   "execution_count": 8,
   "metadata": {},
   "outputs": [
    {
     "name": "stdout",
     "output_type": "stream",
     "text": [
      "Now the current is A\n",
      "Now the current is B\n",
      "Now the current is C\n",
      "Now the current is D\n",
      "Now the current is E\n"
     ]
    }
   ],
   "source": [
    "for i in \"ABCDE\":\n",
    "    print(\"Now the current is \" + i)\n",
    "    continue\n",
    "    print(\"Here is the line after continue\")"
   ]
  },
  {
   "attachments": {},
   "cell_type": "markdown",
   "metadata": {},
   "source": [
    "#### **CH3-47 Range Function**"
   ]
  },
  {
   "cell_type": "code",
   "execution_count": 10,
   "metadata": {},
   "outputs": [
    {
     "name": "stdout",
     "output_type": "stream",
     "text": [
      "0\n",
      "1\n",
      "2\n",
      "3\n",
      "4\n"
     ]
    }
   ],
   "source": [
    "for i in range(5):\n",
    "    print(i)"
   ]
  },
  {
   "cell_type": "code",
   "execution_count": 13,
   "metadata": {},
   "outputs": [
    {
     "name": "stdout",
     "output_type": "stream",
     "text": [
      "15\n",
      "14\n",
      "13\n",
      "12\n",
      "11\n",
      "10\n",
      "9\n",
      "8\n",
      "7\n",
      "6\n"
     ]
    }
   ],
   "source": [
    "for i in range(15,5,-1):\n",
    "    print(i)"
   ]
  },
  {
   "attachments": {},
   "cell_type": "markdown",
   "metadata": {},
   "source": [
    "#### **CH3-49 Enumerate and Zip Function**"
   ]
  },
  {
   "cell_type": "code",
   "execution_count": 15,
   "metadata": {},
   "outputs": [
    {
     "name": "stdout",
     "output_type": "stream",
     "text": [
      "H\n",
      "o\n",
      "w\n",
      " \n",
      "a\n",
      "r\n",
      "e\n",
      " \n",
      "y\n",
      "o\n"
     ]
    }
   ],
   "source": [
    "for counter, char in enumerate(\"How are you today?\"):\n",
    "    if counter < 10:\n",
    "        print(char)"
   ]
  },
  {
   "cell_type": "code",
   "execution_count": 16,
   "metadata": {},
   "outputs": [
    {
     "name": "stdout",
     "output_type": "stream",
     "text": [
      "(1, 'A')\n",
      "(2, 'B')\n",
      "(3, 'C')\n"
     ]
    }
   ],
   "source": [
    "x = [1, 2, 3]\n",
    "y = [\"A\", \"B\", \"C\"]\n",
    "\n",
    "for tuple in zip(x, y):\n",
    "    print(tuple)"
   ]
  },
  {
   "cell_type": "code",
   "execution_count": 17,
   "metadata": {},
   "outputs": [
    {
     "name": "stdout",
     "output_type": "stream",
     "text": [
      "(1, 'A')\n",
      "(2, 'B')\n"
     ]
    }
   ],
   "source": [
    "x = [1, 2, 3]\n",
    "y = [\"A\", \"B\"]\n",
    "\n",
    "for tuple in zip(x, y):\n",
    "    print(tuple)"
   ]
  },
  {
   "attachments": {},
   "cell_type": "markdown",
   "metadata": {},
   "source": [
    "#### **CH3-50-51 Lists, Dictionary, Set, Generator Comprehensions**\n",
    "\n",
    "* list\n",
    "* dictionary\n",
    "* set\n",
    "* tuple??? due to tuple is immutable, it is not inculded in comprehension"
   ]
  },
  {
   "cell_type": "code",
   "execution_count": 19,
   "metadata": {},
   "outputs": [
    {
     "name": "stdout",
     "output_type": "stream",
     "text": [
      "[1, 4, 9, 16]\n"
     ]
    }
   ],
   "source": [
    "x = [1, 2, 3, 4]\n",
    "# squared_x = [1, 4, 6, 9]\n",
    "\n",
    "squared_x = []\n",
    "for item in x:\n",
    "    squared_x.append(item ** 2)\n",
    "print(squared_x)"
   ]
  },
  {
   "cell_type": "code",
   "execution_count": 21,
   "metadata": {},
   "outputs": [
    {
     "name": "stdout",
     "output_type": "stream",
     "text": [
      "[1, 4, 9, 16]\n"
     ]
    }
   ],
   "source": [
    "# List comprehension\n",
    "x = [1, 2, 3, 4]\n",
    "squared_x = [item ** 2 for item in x]\n",
    "print(squared_x)"
   ]
  },
  {
   "cell_type": "code",
   "execution_count": 23,
   "metadata": {},
   "outputs": [
    {
     "name": "stdout",
     "output_type": "stream",
     "text": [
      "[9]\n"
     ]
    }
   ],
   "source": [
    "# List comprehension\n",
    "x = [1, 2, 3, 4]\n",
    "squared_x = [item ** 2 for item in x if item == 3] \n",
    "print(squared_x)"
   ]
  },
  {
   "cell_type": "code",
   "execution_count": 24,
   "metadata": {},
   "outputs": [
    {
     "name": "stdout",
     "output_type": "stream",
     "text": [
      "{3: 9, 4: 16}\n"
     ]
    }
   ],
   "source": [
    "# Dict comprehension\n",
    "x = [1, 2, 3, 4]\n",
    "squared_x_dict = {item: item ** 2 for item in x if item > 2 }\n",
    "print(squared_x_dict)"
   ]
  },
  {
   "cell_type": "code",
   "execution_count": 25,
   "metadata": {},
   "outputs": [
    {
     "name": "stdout",
     "output_type": "stream",
     "text": [
      "{16, 9}\n"
     ]
    }
   ],
   "source": [
    "# Set comprehension\n",
    "x = [1, 2, 3, 3, 4]\n",
    "squared_x_set = {item ** 2 for item in x if item > 2 }\n",
    "print(squared_x_set)"
   ]
  },
  {
   "cell_type": "code",
   "execution_count": 27,
   "metadata": {},
   "outputs": [
    {
     "name": "stdout",
     "output_type": "stream",
     "text": [
      "<generator object <genexpr> at 0x000001FBD2F09740>\n"
     ]
    }
   ],
   "source": [
    "# Generator Comprehension\n",
    "\n",
    "x = [1, 2, 3, 4]\n",
    "x_squared_generator = (item ** 2 for item in x)\n",
    "print(x_squared_generator)"
   ]
  },
  {
   "cell_type": "code",
   "execution_count": 28,
   "metadata": {},
   "outputs": [
    {
     "name": "stdout",
     "output_type": "stream",
     "text": [
      "1\n",
      "4\n",
      "9\n",
      "16\n"
     ]
    }
   ],
   "source": [
    "for i in x_squared_generator:\n",
    "    print(i)"
   ]
  },
  {
   "attachments": {},
   "cell_type": "markdown",
   "metadata": {},
   "source": [
    "#### **CH3-52 Coding Lesson-Word Count**"
   ]
  },
  {
   "cell_type": "code",
   "execution_count": 30,
   "metadata": {},
   "outputs": [],
   "source": [
    "from sys import argv\n",
    "\n",
    "if len(argv) < 2:\n",
    "    print(\"Please provide a file\")"
   ]
  }
 ],
 "metadata": {
  "kernelspec": {
   "display_name": "base",
   "language": "python",
   "name": "python3"
  },
  "language_info": {
   "codemirror_mode": {
    "name": "ipython",
    "version": 3
   },
   "file_extension": ".py",
   "mimetype": "text/x-python",
   "name": "python",
   "nbconvert_exporter": "python",
   "pygments_lexer": "ipython3",
   "version": "3.9.13"
  },
  "orig_nbformat": 4,
  "vscode": {
   "interpreter": {
    "hash": "263930470851f494f0ed2879c35b57985588df20f9e529b86e97dd5eb9ddc466"
   }
  }
 },
 "nbformat": 4,
 "nbformat_minor": 2
}
