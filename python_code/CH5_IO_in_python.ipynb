{
 "cells": [
  {
   "attachments": {},
   "cell_type": "markdown",
   "metadata": {},
   "source": [
    "# **CH5 I/O in Python**"
   ]
  },
  {
   "attachments": {},
   "cell_type": "markdown",
   "metadata": {},
   "source": [
    "#### **CH5-79 Intro to I/O with Files**"
   ]
  },
  {
   "cell_type": "code",
   "execution_count": 2,
   "metadata": {},
   "outputs": [
    {
     "name": "stdout",
     "output_type": "stream",
     "text": [
      "hello, this is a demo text\n",
      "used for i/o function\n"
     ]
    }
   ],
   "source": [
    "file = open('helloworld.txt')\n",
    "print(file.read())"
   ]
  },
  {
   "cell_type": "code",
   "execution_count": 4,
   "metadata": {},
   "outputs": [
    {
     "name": "stdout",
     "output_type": "stream",
     "text": [
      "hello\n",
      "------------\n",
      ", this is a demo text\n",
      "used for i/o function\n"
     ]
    }
   ],
   "source": [
    "file = open('helloworld.txt')\n",
    "print(file.read(5))     # 先停在第五個字\n",
    "print('------------')  \n",
    "print(file.read())      # 因為前面已經讀了五個字，從第六個字到最後一個字\n",
    "\n",
    "# file.read() returns string"
   ]
  },
  {
   "cell_type": "code",
   "execution_count": 6,
   "metadata": {},
   "outputs": [
    {
     "name": "stdout",
     "output_type": "stream",
     "text": [
      "hello, this is a demo text\n",
      "used for i/o function\n",
      "hello, this is a demo text\n",
      "used for i/o function\n"
     ]
    }
   ],
   "source": [
    "file = open('helloworld.txt')\n",
    "print(file.read())\n",
    "file.seek(0)\n",
    "print(file.read())"
   ]
  },
  {
   "cell_type": "code",
   "execution_count": 8,
   "metadata": {},
   "outputs": [
    {
     "name": "stdout",
     "output_type": "stream",
     "text": [
      "hello, this is a demo text\n",
      "\n",
      "used for i/o function\n"
     ]
    }
   ],
   "source": [
    "file = open('helloworld.txt')\n",
    "for line in file.readlines():\n",
    "    print(line)"
   ]
  },
  {
   "cell_type": "code",
   "execution_count": 10,
   "metadata": {},
   "outputs": [
    {
     "name": "stdout",
     "output_type": "stream",
     "text": [
      "hello, this is a demo text\n",
      "\n",
      "used for i/o function\n"
     ]
    }
   ],
   "source": [
    "# 不知道文件有幾行 可以用 file.readline()\n",
    "# 用 file.readlines() 可能會讓 RAM 被 Lists 塞滿\n",
    "\n",
    "file = open('helloworld.txt')\n",
    "\n",
    "while True:\n",
    "    line = file.readline()\n",
    "    if not line:\n",
    "        break\n",
    "    else:\n",
    "        print(line)\n",
    "\n",
    "file.close()"
   ]
  },
  {
   "cell_type": "code",
   "execution_count": 11,
   "metadata": {},
   "outputs": [
    {
     "name": "stdout",
     "output_type": "stream",
     "text": [
      "hello, this is a demo text\n",
      "used for i/o function\n"
     ]
    }
   ],
   "source": [
    "with open('helloworld.txt') as my_file:\n",
    "    all_content = my_file.read()\n",
    "    print(all_content)"
   ]
  },
  {
   "attachments": {},
   "cell_type": "markdown",
   "metadata": {},
   "source": [
    "#### **CH5-82 With statement and Modes**"
   ]
  },
  {
   "cell_type": "code",
   "execution_count": 12,
   "metadata": {},
   "outputs": [],
   "source": [
    "with open('helloworld.txt', mode='w') as my_file:\n",
    "    my_file.write('Learning Python 202300327')"
   ]
  },
  {
   "cell_type": "code",
   "execution_count": 13,
   "metadata": {},
   "outputs": [
    {
     "name": "stdout",
     "output_type": "stream",
     "text": [
      "Learning Python 202300327\n"
     ]
    }
   ],
   "source": [
    "with open('helloworld.txt', mode='r') as my_file:\n",
    "    print(my_file.read())"
   ]
  },
  {
   "attachments": {},
   "cell_type": "markdown",
   "metadata": {},
   "source": [
    "#### **CH5-84 User Input and Coding Lesson - Secret**"
   ]
  },
  {
   "cell_type": "code",
   "execution_count": 28,
   "metadata": {},
   "outputs": [
    {
     "name": "stdout",
     "output_type": "stream",
     "text": [
      "14\n",
      "bingo\n"
     ]
    }
   ],
   "source": [
    "import random\n",
    "\n",
    "secret = random.randint(1, 100)\n",
    "print(secret)\n",
    "\n",
    "min_value = 1\n",
    "max_value = 100\n",
    "\n",
    "while True:\n",
    "    user_guess = int(input(f\"Make your guess (between {min_value} and {max_value}: )\"))\n",
    "    if user_guess < min_value or user_guess > max_value:\n",
    "        print(f'Your guess is below {min_value} or above {max_value}, it is not allowed!')\n",
    "        continue\n",
    "    elif user_guess > secret:\n",
    "        max_value = user_guess\n",
    "    elif user_guess < secret:\n",
    "        min_value = user_guess\n",
    "    else:\n",
    "        print('bingo')\n",
    "        break"
   ]
  },
  {
   "attachments": {},
   "cell_type": "markdown",
   "metadata": {},
   "source": [
    "### **CH5-85-87 Project - Tic Tac Toe Game**"
   ]
  },
  {
   "attachments": {},
   "cell_type": "markdown",
   "metadata": {},
   "source": [
    "* vs code 複製一行的快捷鍵 shift + alt + ↓ \n",
    "* Tic Tac Toe Steps:\n",
    "  * Display grid\n",
    "  * Accept user input\n",
    "  * Update the game grid\n",
    "  * Game win-checking algorithm\n",
    "  * Improving game mechanism"
   ]
  },
  {
   "cell_type": "code",
   "execution_count": 47,
   "metadata": {},
   "outputs": [
    {
     "name": "stdout",
     "output_type": "stream",
     "text": [
      "[' ', ' ', ' ']\n",
      "[' ', ' ', ' ']\n",
      "[' ', ' ', ' ']\n",
      "['O', ' ', ' ']\n",
      "[' ', ' ', ' ']\n",
      "[' ', ' ', ' ']\n",
      "['O', ' ', ' ']\n",
      "[' ', ' ', ' ']\n",
      "[' ', 'X', ' ']\n",
      "['O', ' ', ' ']\n",
      "[' ', ' ', 'O']\n",
      "[' ', 'X', ' ']\n",
      "['O', ' ', ' ']\n",
      "[' ', 'X', 'O']\n",
      "[' ', 'X', ' ']\n",
      "Wrong position to put your choice\n",
      "['O', ' ', ' ']\n",
      "[' ', 'X', 'O']\n",
      "['O', 'X', ' ']\n",
      "['O', ' ', ' ']\n",
      "[' ', 'X', 'O']\n",
      "['O', 'X', 'X']\n",
      "Wrong position to put your choice\n",
      "['O', 'O', ' ']\n",
      "[' ', 'X', 'O']\n",
      "['O', 'X', 'X']\n",
      "Wrong position to put your choice\n",
      "['O', 'O', 'X']\n",
      "[' ', 'X', 'O']\n",
      "['O', 'X', 'X']\n",
      "Wrong position to put your choice\n",
      "Wrong position to put your choice\n",
      "Wrong position to put your choice\n",
      "Wrong position to put your choice\n",
      "Wrong position to put your choice\n",
      "Wrong position to put your choice\n",
      "Wrong position to put your choice\n",
      "Wrong position to put your choice\n",
      "['O', 'O', 'X']\n",
      "['O', 'X', 'O']\n",
      "['O', 'X', 'X']\n",
      "Player 1 wins!! Congrats\n"
     ]
    }
   ],
   "source": [
    "counter = 0\n",
    "row1 = [' ', ' ', ' ']\n",
    "row2 = [' ', ' ', ' ']\n",
    "row3 = [' ', ' ', ' ']\n",
    "\n",
    "# 這邊的 row1-3 是 parameters\n",
    "def display(row1, row2, row3):\n",
    "    print(row1)\n",
    "    print(row2)\n",
    "    print(row3)\n",
    "\n",
    "\n",
    "def user_choice():\n",
    "    choice = input(\"Please enter a number (1-9): \")\n",
    "    while not choice.isdigit() or (int(choice) not in range(1, 10)):\n",
    "        if not choice.isdigit():\n",
    "            print(\"Sorry, your choice is not valid\")\n",
    "        else:\n",
    "            print(\"Your choice is not within the range of 1 - 9.\")\n",
    "        choice = input(\"Please enter a number (1-9): \")\n",
    "    return int(choice)\n",
    "\n",
    "\n",
    "def getCurrentSymbol():\n",
    "    global counter\n",
    "    symbol_list = ['X', 'O']\n",
    "    counter += 1\n",
    "    return symbol_list[counter % 2]\n",
    "\n",
    "\n",
    "def update_table(index):\n",
    "    global row1, row2, row3\n",
    "    if index in range(1, 4):\n",
    "        if row1[index - 1] == ' ':\n",
    "            row1[index - 1] = getCurrentSymbol()\n",
    "            return True\n",
    "        else:\n",
    "            return False\n",
    "    elif index in range(4, 7):\n",
    "        if row2[index % 3 - 1] == ' ':\n",
    "            row2[index % 3 - 1] = getCurrentSymbol()\n",
    "            return True\n",
    "        else:\n",
    "            return False\n",
    "    else:\n",
    "        if row3[index % 3 - 1] == ' ':\n",
    "            row3[index % 3 - 1] = getCurrentSymbol()\n",
    "            return True\n",
    "        else:\n",
    "            return False\n",
    "\n",
    "\n",
    "def check_winning():\n",
    "    player_1_wins = False\n",
    "    player_2_wins = False\n",
    "    if (row1[0] == row1[1] and row1[1] == row1[2] and (\" \" not in row1)):\n",
    "        if (row1[0] == \"X\"):\n",
    "            player_2_wins = True\n",
    "        else:\n",
    "            player_1_wins = True\n",
    "    elif (row2[0] == row2[1] and row2[1] == row2[2] and (\" \" not in row2)):\n",
    "        if (row2[0] == \"X\"):\n",
    "            player_2_wins = True\n",
    "        elif (row2[0] == \"O\"):\n",
    "            player_1_wins = True\n",
    "    elif (row3[0] == row3[1] and row3[1] == row3[2] and (\" \" not in row3)):\n",
    "        if (row3[0] == \"X\"):\n",
    "            player_2_wins = True\n",
    "        elif (row3[0] == \"O\"):\n",
    "            player_1_wins = True\n",
    "    elif (row1[0] == row2[0] and row2[0] == row3[0] and (row1[0] != \" \" and row2[0] != \" \" and row3[0] != \" \")):\n",
    "        if (row1[0] == \"X\"):\n",
    "            player_2_wins = True\n",
    "        elif (row1[0] == \"O\"):\n",
    "            player_1_wins = True\n",
    "    elif (row1[1] == row2[1] and row2[1] == row3[1] and (row1[1] != \" \" and row2[1] != \" \" and row3[1] != \" \")):\n",
    "        if (row1[1] == \"X\"):\n",
    "            player_2_wins = True\n",
    "        elif (row1[1] == \"O\"):\n",
    "            player_1_wins = True\n",
    "    elif (row1[2] == row2[2] and row2[2] == row3[2] and (row1[2] != \" \" and row2[2] != \" \" and row3[2] != \" \")):\n",
    "        if (row1[2] == \"X\"):\n",
    "            player_2_wins = True\n",
    "        elif (row1[2] == \"O\"):\n",
    "            player_1_wins = True\n",
    "    elif (row1[0] == row2[1] and row2[1] == row3[2] and (row1[0] != \" \" and row2[1] != \" \" and row3[2] != \" \")):\n",
    "        if (row1[0] == \"X\"):\n",
    "            player_2_wins = True\n",
    "        elif (row1[0] == \"O\"):\n",
    "            player_1_wins = True\n",
    "    elif (row1[2] == row2[1] and row2[1] == row3[0] and (row1[2] != \" \" and row2[1] != \" \" and row3[0] != \" \")):\n",
    "        if (row1[2] == \"X\"):\n",
    "            player_2_wins = True\n",
    "        elif (row1[2] == \"O\"):\n",
    "            player_1_wins = True\n",
    "\n",
    "    if player_1_wins:\n",
    "        return \"player 1 wins\"\n",
    "    elif player_2_wins:\n",
    "        return \"player 2 wins\"\n",
    "    else:\n",
    "        return \"no one wins\"\n",
    "\n",
    "\n",
    "def start_game():\n",
    "    while True:\n",
    "        display(row1, row2, row3)\n",
    "        while True:\n",
    "            choice = user_choice()\n",
    "            if update_table(choice):\n",
    "                break\n",
    "            else:\n",
    "                print(\"Wrong position to put your choice\")\n",
    "                \n",
    "        result = check_winning()\n",
    "        if result == \"player 1 wins\":\n",
    "            display(row1, row2, row3)\n",
    "            print(\"Player 1 wins!! Congrats\")\n",
    "            return\n",
    "        elif result == \"player 2 wins\":\n",
    "            display(row1, row2, row3)\n",
    "            print(\"Player 2 wins!! Congrats\")\n",
    "            return\n",
    "\n",
    "\n",
    "start_game()\n"
   ]
  },
  {
   "attachments": {},
   "cell_type": "markdown",
   "metadata": {},
   "source": [
    "### **CH5-88-90 Serialization and Deserialization (與Pickle, Shelve有關)**"
   ]
  },
  {
   "cell_type": "code",
   "execution_count": 62,
   "metadata": {},
   "outputs": [],
   "source": [
    "import pickle \n",
    "\n",
    "x = 10\n",
    "y = [1, 2, 3, 4]\n",
    "\n",
    "# Serialization\n",
    "with open(\"pickle_file\", \"wb\") as p_file:\n",
    "    pickle.dump(x, p_file)\n",
    "    pickle.dump(y, p_file)"
   ]
  },
  {
   "cell_type": "code",
   "execution_count": 59,
   "metadata": {},
   "outputs": [
    {
     "name": "stdout",
     "output_type": "stream",
     "text": [
      "10\n",
      "[1, 2, 3, 4]\n"
     ]
    }
   ],
   "source": [
    "import pickle \n",
    "\n",
    "# Deserialization\n",
    "with open(\"pickle_file\", \"rb\") as p_file:\n",
    "    print(pickle.load(p_file))\n",
    "    print(pickle.load(p_file))"
   ]
  },
  {
   "cell_type": "code",
   "execution_count": 67,
   "metadata": {},
   "outputs": [
    {
     "name": "stdout",
     "output_type": "stream",
     "text": [
      "10 100 [1, 2, 3, 4]\n"
     ]
    }
   ],
   "source": [
    "# pickle 常見的寫法\n",
    "\n",
    "import pickle \n",
    "\n",
    "# Serialization\n",
    "# x = 10\n",
    "# y = 100\n",
    "# my_list = [1, 2, 3, 4]\n",
    "\n",
    "# def save_data():\n",
    "#     global x, y, my_list\n",
    "#     data = {'x':x, 'y':y, 'my_list':my_list}\n",
    "\n",
    "#     with open(\"my_pickle_file\", \"wb\") as pfile:\n",
    "#         pickle.dump(data, pfile)\n",
    "\n",
    "# save_data()\n",
    "\n",
    "# Deserialization\n",
    "x = None\n",
    "y = None\n",
    "my_lsit = None\n",
    "\n",
    "def restore_data():\n",
    "    global x, y, my_list\n",
    "    with open('my_pickle_file', 'rb') as pfile:\n",
    "        data = pickle.load(pfile)\n",
    "        x = data['x']\n",
    "        y = data['y']\n",
    "        my_list = data['my_list']\n",
    "\n",
    "restore_data()\n",
    "print(x, y, my_list)"
   ]
  },
  {
   "cell_type": "code",
   "execution_count": 68,
   "metadata": {},
   "outputs": [],
   "source": [
    "import shelve\n",
    "\n",
    "int1 = [1,2,3,4,5,6]\n",
    "int2 = [6,7,8,9,10]\n",
    "int3 = [16,17,18,19,110]\n",
    "\n",
    "# shelf 是 shelve 單數形式\n",
    "with shelve.open('shelf-example', 'c') as shelf:\n",
    "    shelf['int1'] = int1\n",
    "    shelf['int2'] = int2\n",
    "    shelf['int3'] = int3"
   ]
  },
  {
   "cell_type": "code",
   "execution_count": 69,
   "metadata": {},
   "outputs": [
    {
     "name": "stdout",
     "output_type": "stream",
     "text": [
      "int1\n",
      "int2\n",
      "int3\n",
      "[6, 7, 8, 9, 10]\n"
     ]
    }
   ],
   "source": [
    "import shelve\n",
    "\n",
    "with shelve.open('shelf-example', 'r') as shelf:\n",
    "    for key in shelf.keys():\n",
    "        print(key)\n",
    "    print(shelf['int2'])"
   ]
  }
 ],
 "metadata": {
  "kernelspec": {
   "display_name": "Python 3",
   "language": "python",
   "name": "python3"
  },
  "language_info": {
   "codemirror_mode": {
    "name": "ipython",
    "version": 3
   },
   "file_extension": ".py",
   "mimetype": "text/x-python",
   "name": "python",
   "nbconvert_exporter": "python",
   "pygments_lexer": "ipython3",
   "version": "3.10.2"
  },
  "orig_nbformat": 4
 },
 "nbformat": 4,
 "nbformat_minor": 2
}
