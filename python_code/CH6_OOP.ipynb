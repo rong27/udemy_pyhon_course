{
 "cells": [
  {
   "attachments": {},
   "cell_type": "markdown",
   "metadata": {},
   "source": [
    "# **CH6 Objected-Oriented Programming**"
   ]
  },
  {
   "attachments": {},
   "cell_type": "markdown",
   "metadata": {},
   "source": [
    "#### **CH6-91-92 Intro to OOP - Class Attributes, Static Method, Class Method**"
   ]
  },
  {
   "cell_type": "code",
   "execution_count": 3,
   "metadata": {},
   "outputs": [
    {
     "name": "stdout",
     "output_type": "stream",
     "text": [
      "<class '__main__.Robot'>\n"
     ]
    }
   ],
   "source": [
    "class Robot():\n",
    "    pass\n",
    "\n",
    "my_robot = Robot()\n",
    "print(type(my_robot))"
   ]
  },
  {
   "cell_type": "code",
   "execution_count": 4,
   "metadata": {},
   "outputs": [
    {
     "name": "stdout",
     "output_type": "stream",
     "text": [
      "Joy\n",
      "10\n"
     ]
    }
   ],
   "source": [
    "class Robot():\n",
    "    # constructor\n",
    "    def __init__(self, input_name, input_age): # self 指的是自己\n",
    "        # attributes\n",
    "        self.name = input_name\n",
    "        self.age = input_age\n",
    "\n",
    "my_robot1 = Robot(\"Joy\", 10)\n",
    "print(my_robot1.name)\n",
    "print(my_robot1.age)"
   ]
  },
  {
   "cell_type": "code",
   "execution_count": 5,
   "metadata": {},
   "outputs": [
    {
     "name": "stdout",
     "output_type": "stream",
     "text": [
      "Joy is walking...\n",
      "Joyce is walking...\n",
      "Joy is sleeping for 10 hours!\n",
      "Robot calss is for creating robots\n"
     ]
    }
   ],
   "source": [
    "class Robot():\n",
    "    # in classes, we can also define doctring\n",
    "    \"\"\"Robot calss is for creating robots\"\"\"\n",
    "\n",
    "    # constructor\n",
    "    def __init__(self, name, age): # self 指的是自己\n",
    "        # attributes\n",
    "        self.name = name\n",
    "        self.age = age\n",
    "\n",
    "    # method\n",
    "    def walk(self):\n",
    "        print(f'{self.name} is walking...')\n",
    "\n",
    "    def sleep(self, hours):\n",
    "        print(f'{self.name} is sleeping for {hours} hours!')\n",
    "\n",
    "my_robot1 = Robot(\"Joy\", 10)\n",
    "my_robot2 = Robot(\"Joyce\", 5)\n",
    "\n",
    "my_robot1.walk()\n",
    "my_robot2.walk()\n",
    "\n",
    "my_robot1.sleep(10)\n",
    "\n",
    "\n",
    "print(my_robot1.__doc__)  # return doctring"
   ]
  },
  {
   "cell_type": "code",
   "execution_count": 6,
   "metadata": {},
   "outputs": [],
   "source": [
    "class Robot():\n",
    "\n",
    "    # constructor\n",
    "    def __init__(self, name, age): # self 指的是自己\n",
    "        # attributes\n",
    "        self.name = name\n",
    "        self.age = age\n",
    "        self.ingredient = \"metal\"    # 每次執行時都會跑到這一行 但缺點是會佔記憶體\n",
    "\n",
    "    # method\n",
    "    def walk(self):\n",
    "        print(f'{self.name} is walking...')\n",
    "\n",
    "    def sleep(self, hours):\n",
    "        print(f'{self.name} is sleeping for {hours} hours!')\n",
    "\n",
    "my_robot1 = Robot(\"Joy\", 10)\n",
    "my_robot2 = Robot(\"Joyce\", 5)\n"
   ]
  },
  {
   "cell_type": "code",
   "execution_count": 7,
   "metadata": {},
   "outputs": [
    {
     "name": "stdout",
     "output_type": "stream",
     "text": [
      "metal\n",
      "metal\n",
      "metal\n",
      "Hi, my name is Joy, and I am made of metal.\n",
      "metal\n"
     ]
    }
   ],
   "source": [
    "class Robot():\n",
    "    ingredient = \"metal\"\n",
    "    # constructor\n",
    "    def __init__(self, name, age): # self 指的是自己\n",
    "        # attributes\n",
    "        self.name = name\n",
    "        self.age = age\n",
    "\n",
    "    # method\n",
    "    def walk(self):\n",
    "        print(f'{self.name} is walking...')\n",
    "\n",
    "    def sleep(self, hours):\n",
    "        print(f'{self.name} is sleeping for {hours} hours!')\n",
    "\n",
    "    def greet(self):\n",
    "        print(f'Hi, my name is {self.name}, and I am made of {self.__class__.ingredient}.')\n",
    "\n",
    "my_robot1 = Robot(\"Joy\", 10)\n",
    "my_robot2 = Robot(\"Joyce\", 5)\n",
    "\n",
    "print(Robot.ingredient) # metal\n",
    "print(my_robot1.ingredient) # metal\n",
    "print(my_robot2.ingredient) # metal\n",
    "\n",
    "my_robot1.greet()   # Hi, my name is Joy, and I am made of metal.\n",
    "print(my_robot1.__class__.ingredient) # metal"
   ]
  },
  {
   "attachments": {},
   "cell_type": "markdown",
   "metadata": {},
   "source": [
    "#### **Static method** "
   ]
  },
  {
   "cell_type": "code",
   "execution_count": 8,
   "metadata": {},
   "outputs": [
    {
     "name": "stdout",
     "output_type": "stream",
     "text": [
      "A robot says hi...\n"
     ]
    }
   ],
   "source": [
    "class Robot():\n",
    "    ingredient = \"metal\"\n",
    "    # constructor\n",
    "    def __init__(self, name, age): # self 指的是自己\n",
    "        # attributes\n",
    "        self.name = name\n",
    "        self.age = age\n",
    "    \n",
    "    # @ <- is decorator\n",
    "    @staticmethod\n",
    "    def greet():\n",
    "        print('A robot says hi...')\n",
    "\n",
    "my_robot1 = Robot(\"Joy\", 10)\n",
    "my_robot1.__class__.greet()"
   ]
  },
  {
   "attachments": {},
   "cell_type": "markdown",
   "metadata": {},
   "source": [
    "#### **Class method** "
   ]
  },
  {
   "cell_type": "code",
   "execution_count": 9,
   "metadata": {},
   "outputs": [
    {
     "name": "stdout",
     "output_type": "stream",
     "text": [
      "3.14159\n",
      "709.99934\n",
      "709.99934\n"
     ]
    }
   ],
   "source": [
    "class Circle:\n",
    "    \"\"\"This class created circle\"\"\"\n",
    "\n",
    "    pi = 3.14159\n",
    "    all_circles = []\n",
    "\n",
    "    def __init__(self, radius):\n",
    "        self.radius = radius\n",
    "        self.__class__.all_circles.append(self)\n",
    "\n",
    "    def area(self):\n",
    "        return self.__class__.pi * (self.radius ** 2)\n",
    "\n",
    "    @staticmethod\n",
    "    def total_area():\n",
    "        total = 0\n",
    "        for circle in Circle.all_circles:\n",
    "            total += circle.area()\n",
    "        return total\n",
    "\n",
    "    @classmethod\n",
    "    def total_area2(cls):  # cls 可以用自己喜歡的名字\n",
    "        total = 0\n",
    "        for circle in cls.all_circles:\n",
    "            total += circle.area()\n",
    "        return total\n",
    "    \n",
    "c1 = Circle(1)\n",
    "print(c1.area())  # 3.14159\n",
    "c2 = Circle(15)\n",
    "print(c1.__class__.total_area())    # 709.99934\n",
    "print(c1.__class__.total_area2())   # 709.99934"
   ]
  },
  {
   "attachments": {},
   "cell_type": "markdown",
   "metadata": {},
   "source": [
    "#### **CH6-94 Inheritance**"
   ]
  },
  {
   "cell_type": "code",
   "execution_count": 10,
   "metadata": {},
   "outputs": [
    {
     "name": "stdout",
     "output_type": "stream",
     "text": [
      "10 100\n",
      "Joy is sleeping...\n",
      "Joy likes to eat chocolate...\n"
     ]
    }
   ],
   "source": [
    "class People():\n",
    "\n",
    "    def __init__(self, name, age):\n",
    "        self.name = name\n",
    "        self.age = age\n",
    "    \n",
    "    def sleep(self):\n",
    "        print(f'{self.name} is sleeping...')\n",
    "\n",
    "    def eat(self):\n",
    "        print(f'{self.name} is eating...')\n",
    "\n",
    "class Student(People):\n",
    "    \n",
    "    def __init__(self, name, age, student_id):\n",
    "        People.__init__(self, name, age)        # 上面的 name 和 age 會被拿去 People.__init__ 執行 (去執行People的constructor)\n",
    "        self.student_id = student_id\n",
    "    \n",
    "    def eat(self):\n",
    "        print(f'{self.name} likes to eat chocolate...')\n",
    "\n",
    "\n",
    "student1 = Student(\"Joy\", 10, 100)\n",
    "print(student1.age, student1.student_id)\n",
    "student1.sleep()\n",
    "student1.eat()     # 雖然 People()中已有一個 eat() method, 但在自己的物件中可以定義相同的 method, 此時會覆寫 Parent class 的 method.                         "
   ]
  },
  {
   "attachments": {},
   "cell_type": "markdown",
   "metadata": {},
   "source": [
    "#### **super()**"
   ]
  },
  {
   "cell_type": "code",
   "execution_count": 11,
   "metadata": {},
   "outputs": [
    {
     "name": "stdout",
     "output_type": "stream",
     "text": [
      "10 100\n",
      "Joy is sleeping...\n",
      "Joy likes to eat chocolate...\n"
     ]
    }
   ],
   "source": [
    "class People():\n",
    "\n",
    "    def __init__(self, name, age):\n",
    "        self.name = name\n",
    "        self.age = age\n",
    "    \n",
    "    def sleep(self):\n",
    "        print(f'{self.name} is sleeping...')\n",
    "\n",
    "    def eat(self):\n",
    "        print(f'{self.name} is eating...')\n",
    "\n",
    "class Student(People):\n",
    "    \n",
    "    def __init__(self, name, age, student_id):\n",
    "        super().__init__(name, age)        # super() 不需要再添加 self\n",
    "        self.student_id = student_id\n",
    "    \n",
    "    def eat(self):\n",
    "        print(f'{self.name} likes to eat chocolate...')\n",
    "\n",
    "\n",
    "student1 = Student(\"Joy\", 10, 100)\n",
    "print(student1.age, student1.student_id)\n",
    "student1.sleep()\n",
    "student1.eat()     # 雖然 People()中已有一個 eat() method, 但在自己的物件中可以定義相同的 method, 此時會覆寫 Parent class 的 method.                         "
   ]
  },
  {
   "attachments": {},
   "cell_type": "markdown",
   "metadata": {},
   "source": [
    "#### **CH6-95 Multiple Inheritance**"
   ]
  },
  {
   "cell_type": "code",
   "execution_count": 12,
   "metadata": {},
   "outputs": [
    {
     "name": "stdout",
     "output_type": "stream",
     "text": [
      "hello from class C\n",
      "hello from class D\n"
     ]
    }
   ],
   "source": [
    "class C:\n",
    "    def do_stuff(self):\n",
    "        # constructor 沒定義, 他會自己去定義 __init__()\n",
    "        print('hello from class C')\n",
    "\n",
    "class D:\n",
    "    def do_another_stuff(self):\n",
    "        # constructor 沒定義, 他會自己去定義 __init__()\n",
    "        print('hello from class D')\n",
    "\n",
    "class child_A(C, D):\n",
    "    pass\n",
    "\n",
    "a = child_A()\n",
    "\n",
    "a.do_stuff()\n",
    "# hello from class C\n",
    "\n",
    "a.do_another_stuff()\n",
    "# hello from class D"
   ]
  },
  {
   "cell_type": "code",
   "execution_count": 13,
   "metadata": {},
   "outputs": [
    {
     "name": "stdout",
     "output_type": "stream",
     "text": [
      "doing stuff from F\n",
      "[<class '__main__.A'>, <class '__main__.B'>, <class '__main__.E'>, <class '__main__.F'>, <class '__main__.C'>, <class '__main__.D'>, <class '__main__.G'>, <class 'object'>]\n",
      "(<class '__main__.A'>, <class '__main__.B'>, <class '__main__.E'>, <class '__main__.F'>, <class '__main__.C'>, <class '__main__.D'>, <class '__main__.G'>, <class 'object'>)\n"
     ]
    }
   ],
   "source": [
    "class E:\n",
    "    pass\n",
    "\n",
    "class F:\n",
    "    def do_stuff(self):\n",
    "        print('doing stuff from F')\n",
    "\n",
    "class G:\n",
    "    def do_stuff(self):\n",
    "        print('doing stuff from G')\n",
    "\n",
    "class B(E, F):\n",
    "    pass\n",
    "\n",
    "class C:\n",
    "    def do_stuff(self):\n",
    "        print('doing stuff from C')\n",
    "\n",
    "class D(G):\n",
    "    pass\n",
    "\n",
    "class A(B, C, D):\n",
    "    pass\n",
    "\n",
    "\n",
    "a = A()\n",
    "a.do_stuff()\n",
    "# doing stuff from F\n",
    "\n",
    "print(A.mro())\n",
    "print(A.__mro__)"
   ]
  },
  {
   "cell_type": "code",
   "execution_count": 14,
   "metadata": {},
   "outputs": [
    {
     "name": "stdout",
     "output_type": "stream",
     "text": [
      "[<class '__main__.A'>, <class '__main__.B'>, <class '__main__.E'>, <class '__main__.F'>, <class '__main__.C'>, <class '__main__.D'>, <class '__main__.G'>, <class 'object'>]\n",
      "(<class '__main__.A'>, <class '__main__.B'>, <class '__main__.E'>, <class '__main__.F'>, <class '__main__.C'>, <class '__main__.D'>, <class '__main__.G'>, <class 'object'>)\n"
     ]
    }
   ],
   "source": [
    "class E:\n",
    "    pass\n",
    "\n",
    "class F:\n",
    "    def do_stuff(self):\n",
    "        print('doing stuff from F')\n",
    "\n",
    "class G:\n",
    "    def do_stuff(self):\n",
    "        print('doing stuff from G')\n",
    "\n",
    "class B(E, F):\n",
    "    pass\n",
    "\n",
    "class C:\n",
    "    def do_stuff(self):\n",
    "        print('doing stuff from C')\n",
    "\n",
    "class D(G):\n",
    "    pass\n",
    "\n",
    "class A(B, C, D):\n",
    "    pass\n",
    "\n",
    "print(A.mro())\n",
    "print(A.__mro__)"
   ]
  },
  {
   "attachments": {},
   "cell_type": "markdown",
   "metadata": {},
   "source": [
    "#### **CH6-97 Private Attributes and Methods**"
   ]
  },
  {
   "cell_type": "code",
   "execution_count": 15,
   "metadata": {},
   "outputs": [
    {
     "name": "stdout",
     "output_type": "stream",
     "text": [
      "Hi, I am 25 years old.\n"
     ]
    }
   ],
   "source": [
    "class Robot:\n",
    "    def __init__(self, name):\n",
    "        self.name = name\n",
    "\n",
    "        # private property\n",
    "        self.__age = 25\n",
    "\n",
    "    def greet(self):\n",
    "        print(f'Hi, I am {self.__age} years old.')  # 在 class 裡面可以拿到 self.__age \n",
    "\n",
    "my_robot = Robot(\"Joy\")\n",
    "my_robot.greet()"
   ]
  },
  {
   "cell_type": "code",
   "execution_count": 16,
   "metadata": {},
   "outputs": [
    {
     "name": "stdout",
     "output_type": "stream",
     "text": [
      "26\n"
     ]
    }
   ],
   "source": [
    "class Robot:\n",
    "    def __init__(self, name):\n",
    "        self.name = name\n",
    "        self.__age = 25\n",
    "\n",
    "    # getter, setter\n",
    "    def get_age(self):\n",
    "        return self.__age\n",
    "\n",
    "    def set_age(self):\n",
    "        self.__age += 1\n",
    "\n",
    "my_robot = Robot(\"Joy\")\n",
    "my_robot.set_age()\n",
    "print(my_robot.get_age())"
   ]
  },
  {
   "cell_type": "code",
   "execution_count": 17,
   "metadata": {},
   "outputs": [
    {
     "name": "stdout",
     "output_type": "stream",
     "text": [
      "Hi, I am a robot\n",
      "Hello from private method.\n"
     ]
    }
   ],
   "source": [
    "class Robot:\n",
    "    def __init__(self, name):\n",
    "        self.name = name\n",
    "        self.__age = 25\n",
    "\n",
    "    # private method\n",
    "    def __this_is_private(self):\n",
    "        print('Hello from private method.')\n",
    "\n",
    "    def greet(self):\n",
    "        print('Hi, I am a robot')\n",
    "        self.__this_is_private()\n",
    "\n",
    "my_robot = Robot(\"Joy\")\n",
    "my_robot.greet()\n",
    "# Hi, I am a robot\n",
    "# Hello from private method.\n",
    "\n",
    "# my_robot.__this_is_private()\n",
    "# 'Robot' object has no attribute '__this_is_private'\n"
   ]
  },
  {
   "cell_type": "code",
   "execution_count": 18,
   "metadata": {},
   "outputs": [
    {
     "name": "stdout",
     "output_type": "stream",
     "text": [
      "New age is not valid\n",
      "25\n"
     ]
    }
   ],
   "source": [
    "class Robot:\n",
    "    def __init__(self, name):\n",
    "        self.name = name\n",
    "        self.__age = 25\n",
    "\n",
    "    def age_setter(self, new_age):\n",
    "        if new_age > 0 and new_age < 100:\n",
    "            self.__age = new_age\n",
    "        else:\n",
    "            print('New age is not valid')\n",
    "\n",
    "    def age_getter(self):\n",
    "        print(self.__age)\n",
    "\n",
    "my_robot = Robot(\"Joy\")\n",
    "my_robot.age_setter(-50)\n",
    "my_robot.age_getter()\n",
    "# New age is not valid\n",
    "# 25"
   ]
  },
  {
   "attachments": {},
   "cell_type": "markdown",
   "metadata": {},
   "source": [
    "#### **CH6-98 @property decorator**"
   ]
  },
  {
   "cell_type": "code",
   "execution_count": 19,
   "metadata": {},
   "outputs": [
    {
     "name": "stdout",
     "output_type": "stream",
     "text": [
      "15.0\n",
      "55.0\n"
     ]
    }
   ],
   "source": [
    "class Employee:\n",
    "    def __init__(self):\n",
    "        self.income = 0\n",
    "        self.__tax = 0\n",
    "\n",
    "    def earn_money(self, money):\n",
    "        self.income += money\n",
    "        self.__tax += self.income * 0.05\n",
    "\n",
    "    def get_tax(self):\n",
    "        return self.__tax\n",
    "\n",
    "joy = Employee()\n",
    "joy.earn_money(300)\n",
    "print(joy.get_tax())\n",
    "# 15.0\n",
    "\n",
    "joy.earn_money(500)\n",
    "print(joy.get_tax())\n",
    "# 55.0"
   ]
  },
  {
   "cell_type": "code",
   "execution_count": 20,
   "metadata": {},
   "outputs": [
    {
     "name": "stdout",
     "output_type": "stream",
     "text": [
      "15.0\n"
     ]
    }
   ],
   "source": [
    "class Employee:\n",
    "    def __init__(self):\n",
    "        self.income = 0\n",
    "\n",
    "    def earn_money(self, money):\n",
    "        self.income += money\n",
    "\n",
    "    @property\n",
    "    def tax_amount(self):\n",
    "        return self.income * 0.05\n",
    "\n",
    "\n",
    "joy = Employee()\n",
    "joy.earn_money(300)\n",
    "print(joy.tax_amount) # tax_amount 是一個虛擬的 property\n",
    "# tax_amount 虛擬 property is read-only\n",
    "# 15.0"
   ]
  },
  {
   "cell_type": "code",
   "execution_count": 21,
   "metadata": {},
   "outputs": [
    {
     "name": "stdout",
     "output_type": "stream",
     "text": [
      "15.0\n",
      "4000\n"
     ]
    }
   ],
   "source": [
    "class Employee:\n",
    "    def __init__(self):\n",
    "        self.income = 0\n",
    "\n",
    "    def earn_money(self, money):\n",
    "        self.income += money\n",
    "\n",
    "    @property\n",
    "    def tax_amount(self):\n",
    "        return self.income * 0.05\n",
    "    \n",
    "    @tax_amount.setter\n",
    "    def tax_amount(self, tax_number):\n",
    "        self.income = tax_number * 20\n",
    "\n",
    "\n",
    "joy = Employee()\n",
    "joy.earn_money(300)\n",
    "print(joy.tax_amount) # tax_amount 是一個虛擬的 property\n",
    "# tax_amount 虛擬 property is read-only\n",
    "# 15.0\n",
    "\n",
    "joy.tax_amount = 200  # 繳 200 塊稅金\n",
    "print(joy.income)  # 去看說他賺了多少錢 (反推)\n",
    "# 4000"
   ]
  },
  {
   "attachments": {},
   "cell_type": "markdown",
   "metadata": {},
   "source": [
    "#### **CH6-99 The Mighty Hash Function**"
   ]
  },
  {
   "cell_type": "code",
   "execution_count": 22,
   "metadata": {},
   "outputs": [
    {
     "name": "stdout",
     "output_type": "stream",
     "text": [
      "a: 100\n",
      "b: -6375524139573084246 \n",
      "c: 1 \n",
      "d: 1 \n",
      "e: -9223363242448368691\n"
     ]
    },
    {
     "ename": "TypeError",
     "evalue": "unhashable type: 'list'",
     "output_type": "error",
     "traceback": [
      "\u001b[1;31m---------------------------------------------------------------------------\u001b[0m",
      "\u001b[1;31mTypeError\u001b[0m                                 Traceback (most recent call last)",
      "\u001b[1;32m~\\AppData\\Local\\Temp\\ipykernel_3752\\201791214.py\u001b[0m in \u001b[0;36m<module>\u001b[1;34m\u001b[0m\n\u001b[0;32m     15\u001b[0m \"\"\"\n\u001b[0;32m     16\u001b[0m \u001b[1;33m\u001b[0m\u001b[0m\n\u001b[1;32m---> 17\u001b[1;33m \u001b[0mprint\u001b[0m\u001b[1;33m(\u001b[0m\u001b[0mhash\u001b[0m\u001b[1;33m(\u001b[0m\u001b[0mf\u001b[0m\u001b[1;33m)\u001b[0m\u001b[1;33m)\u001b[0m\u001b[1;33m\u001b[0m\u001b[1;33m\u001b[0m\u001b[0m\n\u001b[0m\u001b[0;32m     18\u001b[0m \u001b[1;31m# unhashable type: 'list'\u001b[0m\u001b[1;33m\u001b[0m\u001b[1;33m\u001b[0m\u001b[0m\n",
      "\u001b[1;31mTypeError\u001b[0m: unhashable type: 'list'"
     ]
    }
   ],
   "source": [
    "a = 100\n",
    "b = \"this is a string\"\n",
    "c = 1.0\n",
    "d = True\n",
    "e = None\n",
    "f = [1, 2, 3, 4, 5]\n",
    "\n",
    "print(f'a: {hash(a)}\\nb: {hash(b)} \\nc: {hash(c)} \\nd: {hash(d)} \\ne: {hash(e)}')\n",
    "\"\"\"\n",
    "a: 100\n",
    "b: -2964625248397597741 \n",
    "c: 1 \n",
    "d: 1 \n",
    "e: -9223363240882258995\n",
    "\"\"\"\n",
    "\n",
    "print(hash(f))\n",
    "# unhashable type: 'list'"
   ]
  },
  {
   "cell_type": "code",
   "execution_count": null,
   "metadata": {},
   "outputs": [
    {
     "name": "stdout",
     "output_type": "stream",
     "text": [
      "-5308868137026369799\n",
      "doing other stuff\n",
      "-5308868137026369799\n"
     ]
    }
   ],
   "source": [
    "# hash function -- consistent\n",
    "print(hash('hello'))\n",
    "# -5308868137026369799\n",
    "print('doing other stuff')\n",
    "\n",
    "for i in range(10):\n",
    "    pass\n",
    "print(hash('hello'))\n",
    "# -5308868137026369799"
   ]
  },
  {
   "cell_type": "code",
   "execution_count": null,
   "metadata": {},
   "outputs": [
    {
     "name": "stdout",
     "output_type": "stream",
     "text": [
      "-5805496696106251453\n",
      "-1365342213953388826\n",
      "-5795030233164949852\n"
     ]
    }
   ],
   "source": [
    "# hash function -- distributed evenly 分散的\n",
    "print(hash('A!'))\n",
    "# -5805496696106251453\n",
    "print(hash('A!!'))\n",
    "# -1365342213953388826\n",
    "print(hash('A!!!'))\n",
    "# -5795030233164949852"
   ]
  },
  {
   "attachments": {},
   "cell_type": "markdown",
   "metadata": {},
   "source": [
    "#### **CH6-100 __hash__ and __eq__**"
   ]
  },
  {
   "cell_type": "code",
   "execution_count": 28,
   "metadata": {},
   "outputs": [
    {
     "name": "stdout",
     "output_type": "stream",
     "text": [
      "Joy\n",
      "True\n"
     ]
    }
   ],
   "source": [
    "class Robot:\n",
    "    def __init__(self, name, age, address):\n",
    "        self.name = name\n",
    "        self.age = age\n",
    "        self.address = address\n",
    "\n",
    "    # define a private method __key()\n",
    "    def __key(self):\n",
    "        return (self.name, self.age, self.address)\n",
    "\n",
    "    # implement __hash__() function\n",
    "    def __hash__(self):\n",
    "        return hash(self.__key())\n",
    "\n",
    "    def __eq__(self, other):\n",
    "        if isinstance(other, Robot):\n",
    "            return self.__key() == other.__key() \n",
    "        return NotImplemented\n",
    "\n",
    "robot1 = Robot('Joy', 10, 'TW')\n",
    "robot2 = Robot('Joy', 10, 'TW')\n",
    "\n",
    "dictionary = {robot: 'Joy'}\n",
    "print(dictionary[robot])\n",
    "# Joy\n",
    "\n",
    "print(robot1 == robot2)\n",
    "# True\n"
   ]
  },
  {
   "cell_type": "code",
   "execution_count": 32,
   "metadata": {},
   "outputs": [
    {
     "name": "stdout",
     "output_type": "stream",
     "text": [
      "True\n"
     ]
    }
   ],
   "source": [
    "class Robot:\n",
    "    def __init__(self, name, age, address):\n",
    "        self.name = name\n",
    "        self.age = age\n",
    "        self.address = address\n",
    "\n",
    "    # define a private method __key()\n",
    "    def __key(self):\n",
    "        return (self.name, self.age, self.address)\n",
    "\n",
    "    # implement __hash__() function\n",
    "    def __hash__(self):\n",
    "        return hash(self.__key())\n",
    "\n",
    "    def __eq__(self, other):\n",
    "        if isinstance(other, Robot):\n",
    "            return self.age == other.age\n",
    "        return NotImplemented\n",
    "\n",
    "robot1 = Robot('Joy', 10, 'TW')\n",
    "robot2 = Robot('Joyy', 10, 'US')\n",
    "\n",
    "dictionary = {robot: 'Joy'}\n",
    "\n",
    "print(robot1 == robot2)\n",
    "# True\n"
   ]
  },
  {
   "attachments": {},
   "cell_type": "markdown",
   "metadata": {},
   "source": [
    "#### **CH6-102 Dunder or Magic Methods**"
   ]
  },
  {
   "cell_type": "code",
   "execution_count": 42,
   "metadata": {},
   "outputs": [
    {
     "name": "stdout",
     "output_type": "stream",
     "text": [
      "3\n",
      "joy is 10 years old and living in TW\n",
      "name: joy\n",
      "23\n",
      "False\n",
      "True\n"
     ]
    }
   ],
   "source": [
    "class Robot:\n",
    "    def __init__(self, name, age, address):\n",
    "        self.name = name\n",
    "        self.age = age\n",
    "        self.address = address\n",
    "\n",
    "    # define a private method __key()\n",
    "    def __key(self):\n",
    "        return (self.name, self.age, self.address)\n",
    "\n",
    "    # implement __hash__() function\n",
    "    def __hash__(self):\n",
    "        return hash(self.__key())\n",
    "\n",
    "    def __eq__(self, other):\n",
    "        if isinstance(other, Robot):\n",
    "            return self.age == other.age\n",
    "        return NotImplemented\n",
    "\n",
    "    def __len__(self):\n",
    "        return len(self.name)\n",
    "\n",
    "    def __str__(self):\n",
    "        return f'{self.name} is {self.age} years old and living in {self.address}'\n",
    "\n",
    "    def __repr__(self):\n",
    "        return f'name: {self.name}'\n",
    "\n",
    "    def __add__(self, other):\n",
    "        if isinstance(other, Robot):\n",
    "            return self.age + other.age\n",
    "        return NotImplemented\n",
    "\n",
    "    def __gt__(self, other):\n",
    "        if isinstance(other, Robot):\n",
    "            return self.age > other.age\n",
    "        return NotImplemented\n",
    "\n",
    "    def __ge__(self, other):\n",
    "        if isinstance(other, Robot):\n",
    "            return self.age >= other.age\n",
    "        return NotImplemented   \n",
    "\n",
    "\n",
    "robot1 = Robot('joy', 10, 'TW')\n",
    "robot2 = Robot('joy', 13, 'TW')\n",
    "\n",
    "robot3 = Robot('joy', 23, 'TW')\n",
    "robot4 = Robot('joy', 23, 'TW')\n",
    "\n",
    "print(len(robot1))\n",
    "# 3\n",
    "\n",
    "# print(robot1) 就不會顯示 記憶體位置，而是會去找到 __str__ 印出結果\n",
    "print(robot1)\n",
    "# 也可以使用 print(str(robot1))\n",
    "# joy is 10 years old and living in TW\n",
    "\n",
    "print(repr(robot1))\n",
    "# name: joy\n",
    "\n",
    "print(robot1 + robot2)\n",
    "# 23\n",
    "\n",
    "print(robot1 > robot2)\n",
    "# False\n",
    "\n",
    "print(robot3 >= robot4)\n",
    "# True"
   ]
  }
 ],
 "metadata": {
  "kernelspec": {
   "display_name": "base",
   "language": "python",
   "name": "python3"
  },
  "language_info": {
   "codemirror_mode": {
    "name": "ipython",
    "version": 3
   },
   "file_extension": ".py",
   "mimetype": "text/x-python",
   "name": "python",
   "nbconvert_exporter": "python",
   "pygments_lexer": "ipython3",
   "version": "3.9.13"
  },
  "orig_nbformat": 4
 },
 "nbformat": 4,
 "nbformat_minor": 2
}
