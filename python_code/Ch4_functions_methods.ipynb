{
 "cells": [
  {
   "attachments": {},
   "cell_type": "markdown",
   "metadata": {},
   "source": [
    "# **CH4 Functions and Methods**"
   ]
  },
  {
   "attachments": {},
   "cell_type": "markdown",
   "metadata": {},
   "source": [
    "#### **CH4-53-54 Functions and Methods**"
   ]
  },
  {
   "cell_type": "code",
   "execution_count": 1,
   "metadata": {},
   "outputs": [
    {
     "name": "stdout",
     "output_type": "stream",
     "text": [
      "Help on built-in function insert:\n",
      "\n",
      "insert(index, object, /) method of builtins.list instance\n",
      "    Insert object before index.\n",
      "\n"
     ]
    }
   ],
   "source": [
    "myList = [1,2,3,4]\n",
    "myList.insert(2, 10)\n",
    "\n",
    "help(myList.insert)"
   ]
  },
  {
   "cell_type": "code",
   "execution_count": 3,
   "metadata": {},
   "outputs": [
    {
     "name": "stdout",
     "output_type": "stream",
     "text": [
      "Hello, how are you?\n"
     ]
    }
   ],
   "source": [
    "def sayHi():\n",
    "    print(\"Hello, how are you?\")\n",
    "\n",
    "\n",
    "# function execution, invokation\n",
    "sayHi()"
   ]
  },
  {
   "cell_type": "code",
   "execution_count": 4,
   "metadata": {},
   "outputs": [
    {
     "name": "stdout",
     "output_type": "stream",
     "text": [
      "<function sayHi at 0x000001DB3F4CCC10>\n"
     ]
    }
   ],
   "source": [
    "print(sayHi)"
   ]
  },
  {
   "cell_type": "code",
   "execution_count": 6,
   "metadata": {},
   "outputs": [
    {
     "name": "stdout",
     "output_type": "stream",
     "text": [
      "20\n"
     ]
    }
   ],
   "source": [
    "# x, y are parameters\n",
    "def addition(x, y):\n",
    "    print(x + y)\n",
    "\n",
    "# 此時 3 和 17 會被稱為是 arguments\n",
    "addition(3, 17)"
   ]
  },
  {
   "attachments": {},
   "cell_type": "markdown",
   "metadata": {},
   "source": [
    "#### **global variables, local variables**"
   ]
  },
  {
   "cell_type": "code",
   "execution_count": 11,
   "metadata": {},
   "outputs": [],
   "source": [
    "# global variable\n",
    "\n",
    "a = 5\n",
    "\n",
    "def f1():\n",
    "    x = 2          # f1 function's local variable\n",
    "    y = 3          # f1 function's local variable\n",
    "    print(x, y, a)\n",
    "\n",
    "# def f2():\n",
    "#     x = 10          # f2 function's local variable\n",
    "#     y = 17          # f2 function's local variable\n",
    "#     print(x, y, a)"
   ]
  },
  {
   "cell_type": "code",
   "execution_count": 10,
   "metadata": {},
   "outputs": [
    {
     "name": "stdout",
     "output_type": "stream",
     "text": [
      "2 3 5\n"
     ]
    }
   ],
   "source": [
    "f1()"
   ]
  },
  {
   "cell_type": "code",
   "execution_count": 12,
   "metadata": {},
   "outputs": [
    {
     "ename": "NameError",
     "evalue": "name 'x' is not defined",
     "output_type": "error",
     "traceback": [
      "\u001b[1;31m---------------------------------------------------------------------------\u001b[0m",
      "\u001b[1;31mNameError\u001b[0m                                 Traceback (most recent call last)",
      "\u001b[1;32m~\\AppData\\Local\\Temp\\ipykernel_4864\\2270976976.py\u001b[0m in \u001b[0;36m<module>\u001b[1;34m\u001b[0m\n\u001b[1;32m----> 1\u001b[1;33m \u001b[0mprint\u001b[0m\u001b[1;33m(\u001b[0m\u001b[0mx\u001b[0m\u001b[1;33m,\u001b[0m \u001b[0my\u001b[0m\u001b[1;33m)\u001b[0m\u001b[1;33m\u001b[0m\u001b[1;33m\u001b[0m\u001b[0m\n\u001b[0m",
      "\u001b[1;31mNameError\u001b[0m: name 'x' is not defined"
     ]
    }
   ],
   "source": [
    "# global variable\n",
    "\n",
    "a = 5\n",
    "\n",
    "def f1():\n",
    "    x = 2          # f1 function's local variable\n",
    "    y = 3          # f1 function's local variable\n",
    "    print(x, y, a)\n",
    "\n",
    "# def f2():\n",
    "#     x = 10          # f2 function's local variable\n",
    "#     y = 17          # f2 function's local variable\n",
    "#     print(x, y, a)\n",
    "\n",
    "print(x, y)\n",
    "\n",
    "# 因為 x, y 只有在 f1 裡面有意義，所以會error"
   ]
  },
  {
   "cell_type": "code",
   "execution_count": 15,
   "metadata": {},
   "outputs": [
    {
     "name": "stdout",
     "output_type": "stream",
     "text": [
      "10\n"
     ]
    }
   ],
   "source": [
    "a = 10\n",
    "\n",
    "# parameters (inputs) are local variables in the function\n",
    "\n",
    "def change(num):\n",
    "    # num = a (copy by value) => num = 10\n",
    "    num = 25\n",
    "\n",
    "change(a) \n",
    "print(a)\n",
    "\n",
    "# \"\"\"\n",
    "# 10\n",
    "# \"\"\""
   ]
  },
  {
   "cell_type": "code",
   "execution_count": 18,
   "metadata": {},
   "outputs": [
    {
     "name": "stdout",
     "output_type": "stream",
     "text": [
      "[100, 2, 3, 4]\n"
     ]
    }
   ],
   "source": [
    "a_list = [1, 2, 3, 4]\n",
    "\n",
    "# parameters (inputs) are local variables in the function\n",
    "\n",
    "def change(lst):\n",
    "    # lst = a (copy by refernece) => lst = a\n",
    "    lst[0] = 100\n",
    "\n",
    "change(a_list) \n",
    "print(a_list)\n",
    "\n",
    "# \"\"\"\n",
    "# [100, 2, 3, 4]\n",
    "# \"\"\""
   ]
  },
  {
   "cell_type": "code",
   "execution_count": 20,
   "metadata": {},
   "outputs": [
    {
     "name": "stdout",
     "output_type": "stream",
     "text": [
      "25\n"
     ]
    }
   ],
   "source": [
    "################################################################\n",
    "###  Can we ever chagne any copy by value global variables?  ###\n",
    "################################################################\n",
    "a = 10\n",
    "\n",
    "def change(num):\n",
    "\tglobal a \n",
    "\ta = 25\n",
    "\n",
    "change(a)\n",
    "print(a)"
   ]
  },
  {
   "attachments": {},
   "cell_type": "markdown",
   "metadata": {},
   "source": [
    "#### 如何自己寫 help() function ?"
   ]
  },
  {
   "cell_type": "code",
   "execution_count": 21,
   "metadata": {},
   "outputs": [
    {
     "name": "stdout",
     "output_type": "stream",
     "text": [
      "Help on function myAddition in module __main__:\n",
      "\n",
      "myAddition(a, b)\n",
      "    This function does addition\n",
      "\n"
     ]
    }
   ],
   "source": [
    "def myAddition(a, b):\n",
    "    \"\"\"This function does addition\"\"\"\n",
    "    print(a + b)\n",
    "\n",
    "help(myAddition)"
   ]
  },
  {
   "attachments": {},
   "cell_type": "markdown",
   "metadata": {},
   "source": [
    "#### **CH4-55 Return Keyword**"
   ]
  },
  {
   "cell_type": "code",
   "execution_count": 22,
   "metadata": {},
   "outputs": [
    {
     "name": "stdout",
     "output_type": "stream",
     "text": [
      "28\n",
      "45\n"
     ]
    },
    {
     "ename": "TypeError",
     "evalue": "unsupported operand type(s) for +: 'NoneType' and 'NoneType'",
     "output_type": "error",
     "traceback": [
      "\u001b[1;31m---------------------------------------------------------------------------\u001b[0m",
      "\u001b[1;31mTypeError\u001b[0m                                 Traceback (most recent call last)",
      "\u001b[1;32m~\\AppData\\Local\\Temp\\ipykernel_4864\\3987623476.py\u001b[0m in \u001b[0;36m<module>\u001b[1;34m\u001b[0m\n\u001b[0;32m      3\u001b[0m     \u001b[0mprint\u001b[0m\u001b[1;33m(\u001b[0m\u001b[0ma\u001b[0m \u001b[1;33m+\u001b[0m \u001b[0mb\u001b[0m\u001b[1;33m)\u001b[0m\u001b[1;33m\u001b[0m\u001b[1;33m\u001b[0m\u001b[0m\n\u001b[0;32m      4\u001b[0m \u001b[1;33m\u001b[0m\u001b[0m\n\u001b[1;32m----> 5\u001b[1;33m \u001b[0mprint\u001b[0m\u001b[1;33m(\u001b[0m\u001b[0mmyAddition\u001b[0m\u001b[1;33m(\u001b[0m\u001b[1;36m10\u001b[0m\u001b[1;33m,\u001b[0m \u001b[1;36m18\u001b[0m\u001b[1;33m)\u001b[0m \u001b[1;33m+\u001b[0m \u001b[0mmyAddition\u001b[0m\u001b[1;33m(\u001b[0m\u001b[1;36m26\u001b[0m\u001b[1;33m,\u001b[0m \u001b[1;36m19\u001b[0m\u001b[1;33m)\u001b[0m\u001b[1;33m)\u001b[0m\u001b[1;33m\u001b[0m\u001b[1;33m\u001b[0m\u001b[0m\n\u001b[0m",
      "\u001b[1;31mTypeError\u001b[0m: unsupported operand type(s) for +: 'NoneType' and 'NoneType'"
     ]
    }
   ],
   "source": [
    "def myAddition(a, b):\n",
    "    \"\"\"This function does addition\"\"\"\n",
    "    print(a + b)\n",
    "\n",
    "print(myAddition(10, 18) + myAddition(26, 19)) \n",
    "# TypeError: unsupported operand type(s) for +: 'NoneType' and 'NoneType'"
   ]
  },
  {
   "cell_type": "code",
   "execution_count": 23,
   "metadata": {},
   "outputs": [
    {
     "name": "stdout",
     "output_type": "stream",
     "text": [
      "73\n"
     ]
    }
   ],
   "source": [
    "# use return \n",
    "def myAddition(a, b):\n",
    "    return a + b\n",
    "\n",
    "print(myAddition(10, 18) + myAddition(26, 19)) \n",
    "# 73\n"
   ]
  },
  {
   "cell_type": "code",
   "execution_count": 27,
   "metadata": {},
   "outputs": [
    {
     "name": "stdout",
     "output_type": "stream",
     "text": [
      "0 0\n",
      "0 1\n",
      "0 2\n",
      "0 3\n",
      "0 4\n",
      "1 0\n",
      "1 1\n",
      "1 2\n",
      "1 3\n",
      "1 4\n",
      "2 0\n",
      "2 1\n",
      "2 2\n",
      "2 3\n",
      "2 4\n",
      "3 0\n",
      "3 1\n",
      "3 2\n",
      "3 3\n"
     ]
    },
    {
     "data": {
      "text/plain": [
       "(3, 4)"
      ]
     },
     "execution_count": 27,
     "metadata": {},
     "output_type": "execute_result"
    }
   ],
   "source": [
    "def myAddition(a, b):\n",
    "    for i in range(a):\n",
    "        for j in range(b):\n",
    "            if i == 3 and j == 4:\n",
    "                return (i, j)\n",
    "            print(i, j)\n",
    "\n",
    "myAddition(4, 5)"
   ]
  },
  {
   "attachments": {},
   "cell_type": "markdown",
   "metadata": {},
   "source": [
    "#### **CH4-57 Positional and Keyword Arguments  (執行Functions用的arguments)** "
   ]
  },
  {
   "cell_type": "code",
   "execution_count": 29,
   "metadata": {},
   "outputs": [
    {
     "name": "stdout",
     "output_type": "stream",
     "text": [
      "8\n",
      "9\n",
      "8\n",
      "8\n"
     ]
    }
   ],
   "source": [
    "def exponent(a, b):\n",
    "    return a ** b\n",
    "\n",
    "# positional arguments\n",
    "print(exponent(2, 3))\n",
    "print(exponent(3, 2))\n",
    "\n",
    "# keyword arguments\n",
    "print(exponent(a = 2, b = 3))\n",
    "print(exponent(b = 3, a = 2))\n",
    "\n"
   ]
  },
  {
   "attachments": {},
   "cell_type": "markdown",
   "metadata": {},
   "source": [
    "#### **CH4-58 Default Arguments in Python (定義Functions要用的argument)** "
   ]
  },
  {
   "cell_type": "code",
   "execution_count": 32,
   "metadata": {},
   "outputs": [
    {
     "data": {
      "text/plain": [
       "12"
      ]
     },
     "execution_count": 32,
     "metadata": {},
     "output_type": "execute_result"
    }
   ],
   "source": [
    "# default argument\n",
    "def sum(n1, n2 = 0):\n",
    "    return n1 + n2\n",
    "\n",
    "sum(12)\n",
    "\n"
   ]
  },
  {
   "cell_type": "code",
   "execution_count": 33,
   "metadata": {},
   "outputs": [
    {
     "ename": "SyntaxError",
     "evalue": "non-default argument follows default argument (1990851278.py, line 2)",
     "output_type": "error",
     "traceback": [
      "\u001b[1;36m  File \u001b[1;32m\"C:\\Users\\USER\\AppData\\Local\\Temp\\ipykernel_4864\\1990851278.py\"\u001b[1;36m, line \u001b[1;32m2\u001b[0m\n\u001b[1;33m    def sum(n1 = 10, n2):\u001b[0m\n\u001b[1;37m                       ^\u001b[0m\n\u001b[1;31mSyntaxError\u001b[0m\u001b[1;31m:\u001b[0m non-default argument follows default argument\n"
     ]
    }
   ],
   "source": [
    "# default argument\n",
    "def sum(n1 = 10, n2):\n",
    "    return n1 + n2\n",
    "\n",
    "sum(12)\n",
    "\n",
    "# SyntaxError: non-default argument follows default argument"
   ]
  },
  {
   "attachments": {},
   "cell_type": "markdown",
   "metadata": {},
   "source": [
    "#### **CH4-59 Arbitrary (任意的) Number of Arguments** "
   ]
  },
  {
   "cell_type": "code",
   "execution_count": 35,
   "metadata": {},
   "outputs": [
    {
     "name": "stdout",
     "output_type": "stream",
     "text": [
      "(1, 2, 3, 4, 5, 6)\n",
      "<class 'tuple'>\n"
     ]
    }
   ],
   "source": [
    "def sum(*args):\n",
    "    print(args)\n",
    "    print(type(args))\n",
    "\n",
    "sum(1, 2, 3, 4, 5, 6)\n",
    "\n",
    "# (1, 2, 3, 4, 5, 6)\n",
    "# <class 'tuple'>"
   ]
  },
  {
   "cell_type": "code",
   "execution_count": 36,
   "metadata": {},
   "outputs": [
    {
     "data": {
      "text/plain": [
       "21"
      ]
     },
     "execution_count": 36,
     "metadata": {},
     "output_type": "execute_result"
    }
   ],
   "source": [
    "def sum(*args):\n",
    "    result = 0\n",
    "    for number in range(len(args)):\n",
    "        result += args[number]\n",
    "    return result\n",
    "\n",
    "sum(1, 2, 3, 4, 5, 6)\n",
    "# 21"
   ]
  },
  {
   "cell_type": "code",
   "execution_count": 38,
   "metadata": {},
   "outputs": [
    {
     "name": "stdout",
     "output_type": "stream",
     "text": [
      "{'name': 'Joy', 'age': 19, 'addredd': 'ROC'}\n",
      "<class 'dict'>\n"
     ]
    }
   ],
   "source": [
    "def myFunc(**kwargs):\n",
    "    print(kwargs)\n",
    "    print(type(kwargs))\n",
    "\n",
    "myFunc(name = \"Joy\", age = 19, addredd = \"ROC\")\n",
    "\n",
    "# {'name': 'Joy', 'age': 19, 'addredd': 'ROC'}\n",
    "# <class 'dict'>\n"
   ]
  },
  {
   "cell_type": "code",
   "execution_count": 40,
   "metadata": {},
   "outputs": [
    {
     "name": "stdout",
     "output_type": "stream",
     "text": [
      "Joy is now 19 years old\n",
      "Joy is now 19 years old\n"
     ]
    }
   ],
   "source": [
    "def myFunc(**kwargs):\n",
    "    print(\"{} is now {} years old\".format(kwargs[\"name\"], kwargs[\"age\"]))\n",
    "    print(f'{kwargs[\"name\"]} is now {kwargs[\"age\"]} years old')\n",
    "\n",
    "myFunc(name = \"Joy\", age = 19, addredd = \"ROC\")\n",
    "\n",
    "# Joy is now 19 years old\n",
    "# Joy is now 19 years old\n"
   ]
  },
  {
   "cell_type": "code",
   "execution_count": 42,
   "metadata": {},
   "outputs": [
    {
     "name": "stdout",
     "output_type": "stream",
     "text": [
      "I would like to eat 14 eggs\n"
     ]
    }
   ],
   "source": [
    "def myfunc(*args, **kwargs):\n",
    "    print(\"I would like to eat {} {}\".format(args[0], kwargs[\"food\"]))\n",
    "\n",
    "myfunc(14, 17, 23, \"Hello\", food=\"eggs\", name=\"Joy\")\n",
    "\n",
    "# I would like to eat 14 eggs"
   ]
  },
  {
   "attachments": {},
   "cell_type": "markdown",
   "metadata": {},
   "source": [
    "#### Function input definition orders should be\n",
    "    1. normal parameters\n",
    "    2. defalut parameters\n",
    "    3. *args\n",
    "    4. **kwargs"
   ]
  },
  {
   "cell_type": "code",
   "execution_count": 45,
   "metadata": {},
   "outputs": [
    {
     "name": "stdout",
     "output_type": "stream",
     "text": [
      "-------------------------\n",
      "1 2 3 (4, 5) {'x': 1, 'y': 3}\n",
      "-------------------------\n",
      "1 2 3 (4,) {'x': 4}\n",
      "-------------------------\n",
      "1 2 3 (4,) {}\n",
      "-------------------------\n",
      "1 2 3 () {}\n",
      "-------------------------\n",
      "1 2 three () {}\n"
     ]
    },
    {
     "ename": "TypeError",
     "evalue": "func() missing 1 required positional argument: 'p2'",
     "output_type": "error",
     "traceback": [
      "\u001b[1;31m---------------------------------------------------------------------------\u001b[0m",
      "\u001b[1;31mTypeError\u001b[0m                                 Traceback (most recent call last)",
      "\u001b[1;32m~\\AppData\\Local\\Temp\\ipykernel_4864\\1797299704.py\u001b[0m in \u001b[0;36m<module>\u001b[1;34m\u001b[0m\n\u001b[0;32m     18\u001b[0m \u001b[1;31m# 1 2 three () {}\u001b[0m\u001b[1;33m\u001b[0m\u001b[1;33m\u001b[0m\u001b[0m\n\u001b[0;32m     19\u001b[0m \u001b[1;33m\u001b[0m\u001b[0m\n\u001b[1;32m---> 20\u001b[1;33m \u001b[0mfunc\u001b[0m\u001b[1;33m(\u001b[0m\u001b[1;36m1\u001b[0m\u001b[1;33m)\u001b[0m\u001b[1;33m\u001b[0m\u001b[1;33m\u001b[0m\u001b[0m\n\u001b[0m",
      "\u001b[1;31mTypeError\u001b[0m: func() missing 1 required positional argument: 'p2'"
     ]
    }
   ],
   "source": [
    "def func(p1, p2, p3=\"three\", *args, **kwargs):\n",
    "    print(\"-------------------------\")\n",
    "    print(p1, p2, p3, args, kwargs)\n",
    "\n",
    "func(1, 2, 3, 4, 5, x=1, y=3)\n",
    "# 1 2 3 (4, 5) {'x': 1, 'y': 3}\n",
    "\n",
    "func(1, 2, 3, 4, x=4)\n",
    "# 1 2 3 (4,) {'x': 4}\n",
    "\n",
    "func(1, 2, 3, 4)\n",
    "# 1 2 3 (4,) {}\n",
    "\n",
    "func(1, 2, 3)\n",
    "# 1 2 3 () {}\n",
    "\n",
    "func(1,2)\n",
    "# 1 2 three () {}\n",
    "\n",
    "func(1)\n",
    "# TypeError: func() missing 1 required positional argument: 'p2'"
   ]
  },
  {
   "attachments": {},
   "cell_type": "markdown",
   "metadata": {},
   "source": [
    "#### **CH4-60 Higher-Order Function** "
   ]
  },
  {
   "cell_type": "code",
   "execution_count": 1,
   "metadata": {},
   "outputs": [
    {
     "name": "stdout",
     "output_type": "stream",
     "text": [
      "Hello from small function\n"
     ]
    }
   ],
   "source": [
    "def higherOrder(fn):\n",
    "    fn()\n",
    "\n",
    "def smallFunc():\n",
    "    print(\"Hello from small function\")\n",
    "\n",
    "higherOrder(smallFunc)\n",
    "\n",
    "# Hello from small function"
   ]
  },
  {
   "cell_type": "code",
   "execution_count": 5,
   "metadata": {},
   "outputs": [
    {
     "name": "stdout",
     "output_type": "stream",
     "text": [
      "100\n",
      "9\n",
      "81\n",
      "64\n",
      "100\n"
     ]
    }
   ],
   "source": [
    "def square(num):\n",
    "    return num ** 2\n",
    "\n",
    "myList = [-10, 3, 9, 8, 10]\n",
    "map(square, myList)          # 記憶體位置\n",
    "\n",
    " # map 在每一個myList裡面的值都去執行 num ** 2\n",
    "\n",
    "for item in map(square, myList):\n",
    "    print(item)"
   ]
  },
  {
   "cell_type": "code",
   "execution_count": 7,
   "metadata": {},
   "outputs": [
    {
     "name": "stdout",
     "output_type": "stream",
     "text": [
      "888532\n",
      "551236\n"
     ]
    }
   ],
   "source": [
    "def even(num):\n",
    "    if num % 2 == 0:\n",
    "        return True\n",
    "    else:\n",
    "        return False\n",
    "\n",
    "def even(num):\n",
    "    return num % 2 == 0\n",
    "\n",
    "myList = [888532, 2331153, -938153, 551236]\n",
    "for item in filter(even, myList):\n",
    "    print(item)"
   ]
  },
  {
   "attachments": {},
   "cell_type": "markdown",
   "metadata": {},
   "source": [
    "#### **CH4-61 Lambda Expression** "
   ]
  },
  {
   "cell_type": "code",
   "execution_count": 9,
   "metadata": {},
   "outputs": [
    {
     "name": "stdout",
     "output_type": "stream",
     "text": [
      "25\n"
     ]
    }
   ],
   "source": [
    "# lambda variable: operation\n",
    "\n",
    "result = (lambda x: x**2)(5)\n",
    "print(result)"
   ]
  },
  {
   "cell_type": "code",
   "execution_count": 10,
   "metadata": {},
   "outputs": [
    {
     "name": "stdout",
     "output_type": "stream",
     "text": [
      "(15, 5)\n"
     ]
    }
   ],
   "source": [
    "# lambda input1, input2, ....: operation\n",
    "\n",
    "result = (lambda x, y: (x+y, x-y))(10, 5)\n",
    "print(result)"
   ]
  },
  {
   "cell_type": "code",
   "execution_count": 12,
   "metadata": {},
   "outputs": [
    {
     "name": "stdout",
     "output_type": "stream",
     "text": [
      "225\n",
      "100\n",
      "25\n",
      "0\n"
     ]
    }
   ],
   "source": [
    "for item in map(lambda x: x**2, [15, 10, 5, 0]):\n",
    "    print(item)"
   ]
  },
  {
   "cell_type": "code",
   "execution_count": 14,
   "metadata": {},
   "outputs": [
    {
     "name": "stdout",
     "output_type": "stream",
     "text": [
      "10\n",
      "8\n"
     ]
    }
   ],
   "source": [
    "for item in filter(lambda x: x % 2 == 0, [15, 10, 5, 8]):\n",
    "    print(item)"
   ]
  },
  {
   "attachments": {},
   "cell_type": "markdown",
   "metadata": {},
   "source": [
    "#### **CH4-62 Scope and LEGB Rule** "
   ]
  },
  {
   "cell_type": "code",
   "execution_count": 26,
   "metadata": {},
   "outputs": [
    {
     "name": "stdout",
     "output_type": "stream",
     "text": [
      "Hello, my name is May\n"
     ]
    }
   ],
   "source": [
    "name = \"Joy\"\n",
    "\n",
    "def greet():\n",
    "    name = \"May\"\n",
    "\n",
    "    def hello():\n",
    "        print(\"Hello, my name is \" + name)\n",
    "\n",
    "    def hello2():\n",
    "        print(\"greeting from hello2\")\n",
    "        hello()\n",
    "\n",
    "    hello()\n",
    "\n",
    "greet()"
   ]
  },
  {
   "attachments": {},
   "cell_type": "markdown",
   "metadata": {},
   "source": [
    "#### **CH4-63 (Bonus) Assignment and Local Variable** "
   ]
  },
  {
   "cell_type": "code",
   "execution_count": 27,
   "metadata": {},
   "outputs": [
    {
     "ename": "UnboundLocalError",
     "evalue": "local variable 'a' referenced before assignment",
     "output_type": "error",
     "traceback": [
      "\u001b[1;31m---------------------------------------------------------------------------\u001b[0m",
      "\u001b[1;31mUnboundLocalError\u001b[0m                         Traceback (most recent call last)",
      "\u001b[1;32m~\\AppData\\Local\\Temp\\ipykernel_20216\\1932520145.py\u001b[0m in \u001b[0;36m<module>\u001b[1;34m\u001b[0m\n\u001b[0;32m      5\u001b[0m     \u001b[0ma\u001b[0m \u001b[1;33m=\u001b[0m \u001b[1;36m2\u001b[0m\u001b[1;33m\u001b[0m\u001b[1;33m\u001b[0m\u001b[0m\n\u001b[0;32m      6\u001b[0m \u001b[1;33m\u001b[0m\u001b[0m\n\u001b[1;32m----> 7\u001b[1;33m \u001b[0mchange\u001b[0m\u001b[1;33m(\u001b[0m\u001b[1;33m)\u001b[0m\u001b[1;33m\u001b[0m\u001b[1;33m\u001b[0m\u001b[0m\n\u001b[0m",
      "\u001b[1;32m~\\AppData\\Local\\Temp\\ipykernel_20216\\1932520145.py\u001b[0m in \u001b[0;36mchange\u001b[1;34m()\u001b[0m\n\u001b[0;32m      2\u001b[0m \u001b[1;33m\u001b[0m\u001b[0m\n\u001b[0;32m      3\u001b[0m \u001b[1;32mdef\u001b[0m \u001b[0mchange\u001b[0m\u001b[1;33m(\u001b[0m\u001b[1;33m)\u001b[0m\u001b[1;33m:\u001b[0m\u001b[1;33m\u001b[0m\u001b[1;33m\u001b[0m\u001b[0m\n\u001b[1;32m----> 4\u001b[1;33m     \u001b[0mprint\u001b[0m\u001b[1;33m(\u001b[0m\u001b[0ma\u001b[0m\u001b[1;33m)\u001b[0m\u001b[1;33m\u001b[0m\u001b[1;33m\u001b[0m\u001b[0m\n\u001b[0m\u001b[0;32m      5\u001b[0m     \u001b[0ma\u001b[0m \u001b[1;33m=\u001b[0m \u001b[1;36m2\u001b[0m\u001b[1;33m\u001b[0m\u001b[1;33m\u001b[0m\u001b[0m\n\u001b[0;32m      6\u001b[0m \u001b[1;33m\u001b[0m\u001b[0m\n",
      "\u001b[1;31mUnboundLocalError\u001b[0m: local variable 'a' referenced before assignment"
     ]
    }
   ],
   "source": [
    "a = \"hello\"\n",
    "\n",
    "def change():\n",
    "    print(a) # Python automatically created \"a\" local variable\n",
    "    a = 2    # a variable assignment\n",
    "\n",
    "change()\n",
    "\n",
    "# UnboundLocalError: local variable 'a' referenced before assignment\n",
    "# 在 change() 中 print(a) 後才 assignment a = 2 "
   ]
  },
  {
   "cell_type": "code",
   "execution_count": 29,
   "metadata": {},
   "outputs": [
    {
     "ename": "UnboundLocalError",
     "evalue": "local variable 'a' referenced before assignment",
     "output_type": "error",
     "traceback": [
      "\u001b[1;31m---------------------------------------------------------------------------\u001b[0m",
      "\u001b[1;31mUnboundLocalError\u001b[0m                         Traceback (most recent call last)",
      "\u001b[1;32m~\\AppData\\Local\\Temp\\ipykernel_20216\\3840715483.py\u001b[0m in \u001b[0;36m<module>\u001b[1;34m\u001b[0m\n\u001b[0;32m      6\u001b[0m     \u001b[0mprint\u001b[0m\u001b[1;33m(\u001b[0m\u001b[0ma\u001b[0m\u001b[1;33m)\u001b[0m\u001b[1;33m\u001b[0m\u001b[1;33m\u001b[0m\u001b[0m\n\u001b[0;32m      7\u001b[0m \u001b[1;33m\u001b[0m\u001b[0m\n\u001b[1;32m----> 8\u001b[1;33m \u001b[0mchange\u001b[0m\u001b[1;33m(\u001b[0m\u001b[1;32mFalse\u001b[0m\u001b[1;33m)\u001b[0m\u001b[1;33m\u001b[0m\u001b[1;33m\u001b[0m\u001b[0m\n\u001b[0m",
      "\u001b[1;32m~\\AppData\\Local\\Temp\\ipykernel_20216\\3840715483.py\u001b[0m in \u001b[0;36mchange\u001b[1;34m(x)\u001b[0m\n\u001b[0;32m      4\u001b[0m     \u001b[1;32mif\u001b[0m \u001b[0mx\u001b[0m\u001b[1;33m:\u001b[0m\u001b[1;33m\u001b[0m\u001b[1;33m\u001b[0m\u001b[0m\n\u001b[0;32m      5\u001b[0m         \u001b[0ma\u001b[0m \u001b[1;33m=\u001b[0m \u001b[1;34m'We just changed a'\u001b[0m\u001b[1;33m\u001b[0m\u001b[1;33m\u001b[0m\u001b[0m\n\u001b[1;32m----> 6\u001b[1;33m     \u001b[0mprint\u001b[0m\u001b[1;33m(\u001b[0m\u001b[0ma\u001b[0m\u001b[1;33m)\u001b[0m\u001b[1;33m\u001b[0m\u001b[1;33m\u001b[0m\u001b[0m\n\u001b[0m\u001b[0;32m      7\u001b[0m \u001b[1;33m\u001b[0m\u001b[0m\n\u001b[0;32m      8\u001b[0m \u001b[0mchange\u001b[0m\u001b[1;33m(\u001b[0m\u001b[1;32mFalse\u001b[0m\u001b[1;33m)\u001b[0m\u001b[1;33m\u001b[0m\u001b[1;33m\u001b[0m\u001b[0m\n",
      "\u001b[1;31mUnboundLocalError\u001b[0m: local variable 'a' referenced before assignment"
     ]
    }
   ],
   "source": [
    "a = \"hello\"\n",
    "\n",
    "def change(x):\n",
    "    if x: \n",
    "        a = 'We just changed a'  # variable assignment\n",
    "    print(a)\n",
    "\n",
    "change(False)\n",
    "# UnboundLocalError: local variable 'a' referenced before assignment\n",
    "\n",
    "change(True)\n",
    "# We just changed a"
   ]
  },
  {
   "attachments": {},
   "cell_type": "markdown",
   "metadata": {},
   "source": [
    "#### **CH4-64 Functions are Objects !!**  "
   ]
  },
  {
   "cell_type": "code",
   "execution_count": 30,
   "metadata": {},
   "outputs": [
    {
     "name": "stdout",
     "output_type": "stream",
     "text": [
      "5\n"
     ]
    }
   ],
   "source": [
    "def addition(a, b):\n",
    "    return a + b\n",
    "\n",
    "def substraction(a, b):\n",
    "    return a - b\n",
    "\n",
    "addition = substraction # addition 中 是裝 substraction\n",
    "\n",
    "print(addition(10, 5))\n",
    "# 5 "
   ]
  },
  {
   "cell_type": "code",
   "execution_count": 31,
   "metadata": {},
   "outputs": [
    {
     "name": "stdout",
     "output_type": "stream",
     "text": [
      "The Zen of Python, by Tim Peters\n",
      "\n",
      "Beautiful is better than ugly.\n",
      "Explicit is better than implicit.\n",
      "Simple is better than complex.\n",
      "Complex is better than complicated.\n",
      "Flat is better than nested.\n",
      "Sparse is better than dense.\n",
      "Readability counts.\n",
      "Special cases aren't special enough to break the rules.\n",
      "Although practicality beats purity.\n",
      "Errors should never pass silently.\n",
      "Unless explicitly silenced.\n",
      "In the face of ambiguity, refuse the temptation to guess.\n",
      "There should be one-- and preferably only one --obvious way to do it.\n",
      "Although that way may not be obvious at first unless you're Dutch.\n",
      "Now is better than never.\n",
      "Although never is often better than *right* now.\n",
      "If the implementation is hard to explain, it's a bad idea.\n",
      "If the implementation is easy to explain, it may be a good idea.\n",
      "Namespaces are one honking great idea -- let's do more of those!\n"
     ]
    }
   ],
   "source": [
    "import this"
   ]
  }
 ],
 "metadata": {
  "kernelspec": {
   "display_name": "base",
   "language": "python",
   "name": "python3"
  },
  "language_info": {
   "codemirror_mode": {
    "name": "ipython",
    "version": 3
   },
   "file_extension": ".py",
   "mimetype": "text/x-python",
   "name": "python",
   "nbconvert_exporter": "python",
   "pygments_lexer": "ipython3",
   "version": "3.9.13"
  },
  "orig_nbformat": 4
 },
 "nbformat": 4,
 "nbformat_minor": 2
}
