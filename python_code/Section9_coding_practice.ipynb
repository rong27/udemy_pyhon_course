{
 "cells": [
  {
   "attachments": {},
   "cell_type": "markdown",
   "metadata": {},
   "source": [
    "## **Python Practice**\n",
    "\n",
    "* [題目來源](https://yuhsien.notion.site/Python-Practice-30411d016dcc4fafa82559fe6d9259ea)"
   ]
  },
  {
   "attachments": {},
   "cell_type": "markdown",
   "metadata": {},
   "source": [
    "### **Simple 1**\n",
    "\n",
    "Question: Write a function called \"printMany\" that prints out integers 1, 2, 3, ..., 100.\n",
    "\n",
    "```\n",
    "printMany();\n",
    "# 1\n",
    "# 2\n",
    "# ...\n",
    "# 100\n",
    "```"
   ]
  },
  {
   "cell_type": "code",
   "execution_count": 4,
   "metadata": {},
   "outputs": [
    {
     "name": "stdout",
     "output_type": "stream",
     "text": [
      "1\n",
      "2\n",
      "3\n",
      "4\n",
      "5\n",
      "6\n",
      "7\n",
      "8\n",
      "9\n",
      "10\n",
      "11\n",
      "12\n",
      "13\n",
      "14\n",
      "15\n",
      "16\n",
      "17\n",
      "18\n",
      "19\n",
      "20\n",
      "21\n",
      "22\n",
      "23\n",
      "24\n",
      "25\n",
      "26\n",
      "27\n",
      "28\n",
      "29\n",
      "30\n",
      "31\n",
      "32\n",
      "33\n",
      "34\n",
      "35\n",
      "36\n",
      "37\n",
      "38\n",
      "39\n",
      "40\n",
      "41\n",
      "42\n",
      "43\n",
      "44\n",
      "45\n",
      "46\n",
      "47\n",
      "48\n",
      "49\n",
      "50\n",
      "51\n",
      "52\n",
      "53\n",
      "54\n",
      "55\n",
      "56\n",
      "57\n",
      "58\n",
      "59\n",
      "60\n",
      "61\n",
      "62\n",
      "63\n",
      "64\n",
      "65\n",
      "66\n",
      "67\n",
      "68\n",
      "69\n",
      "70\n",
      "71\n",
      "72\n",
      "73\n",
      "74\n",
      "75\n",
      "76\n",
      "77\n",
      "78\n",
      "79\n",
      "80\n",
      "81\n",
      "82\n",
      "83\n",
      "84\n",
      "85\n",
      "86\n",
      "87\n",
      "88\n",
      "89\n",
      "90\n",
      "91\n",
      "92\n",
      "93\n",
      "94\n",
      "95\n",
      "96\n",
      "97\n",
      "98\n",
      "99\n",
      "100\n"
     ]
    }
   ],
   "source": [
    "def printMany():\n",
    "    for i in range(1, 101):\n",
    "        print(i)\n",
    "\n",
    "printMany()"
   ]
  },
  {
   "attachments": {},
   "cell_type": "markdown",
   "metadata": {},
   "source": [
    "### **Simple 2**\n",
    "\n",
    "Question: Write a function called \"printEvery3\" that prints out integers 1, 4, 7, 10, ..., 88.\n",
    "\n",
    "```\n",
    "printEvery3();\n",
    "# 1\n",
    "# 4\n",
    "# ... \n",
    "# 88\n",
    "```"
   ]
  },
  {
   "cell_type": "code",
   "execution_count": 10,
   "metadata": {},
   "outputs": [
    {
     "name": "stdout",
     "output_type": "stream",
     "text": [
      "1\n",
      "4\n",
      "7\n",
      "10\n",
      "13\n",
      "16\n",
      "19\n",
      "22\n",
      "25\n",
      "28\n",
      "31\n",
      "34\n",
      "37\n",
      "40\n",
      "43\n",
      "46\n",
      "49\n",
      "52\n",
      "55\n",
      "58\n",
      "61\n",
      "64\n",
      "67\n",
      "70\n",
      "73\n",
      "76\n",
      "79\n",
      "82\n",
      "85\n",
      "88\n"
     ]
    }
   ],
   "source": [
    "def printEvery3():\n",
    "    result = 0\n",
    "    for i in range(1, 89, 3):\n",
    "        print(result + i)\n",
    "\n",
    "printEvery3()"
   ]
  },
  {
   "attachments": {},
   "cell_type": "markdown",
   "metadata": {},
   "source": [
    "### **Simple 3**\n",
    "\n",
    "Question: Write a function called \"position\" that returns a tuple of the first uppercase letter and its index location. If not found, returns -1\n",
    "\n",
    "```\n",
    "position(\"abcd\")  # returns -1\n",
    "position(\"AbcD\")  # returns ('A', 0)\n",
    "position(\"abCD\")  # returns ('C', 2)\n",
    "```"
   ]
  },
  {
   "cell_type": "code",
   "execution_count": 27,
   "metadata": {},
   "outputs": [
    {
     "name": "stdout",
     "output_type": "stream",
     "text": [
      "-1\n",
      "('A', 0)\n",
      "('C', 2)\n"
     ]
    }
   ],
   "source": [
    "def position(letter):\n",
    "    for i, element in enumerate(letter):\n",
    "        if element == element.upper():\n",
    "            return (element, i)\n",
    "    return -1                                  # 等迴圈執行完沒有符合 if 的才 return -1\n",
    "\n",
    "print(position(\"abcd\"))\n",
    "print(position(\"AbcD\"))  \n",
    "print(position(\"abCD\"))  "
   ]
  },
  {
   "attachments": {},
   "cell_type": "markdown",
   "metadata": {},
   "source": [
    "### **Simple 4**\n",
    "\n",
    "Question: Write a function called \"findSmallCount\" that takes one list of integers and one integer as input, and returns an integer indicating how many elements in the list is smaller than the input integer.\n",
    "\n",
    "```\n",
    "findSmallCount([1, 2, 3], 2); # returns 1\n",
    "findSmallCount([1, 2, 3, 4, 5], 0); # returns 0\n",
    "```"
   ]
  },
  {
   "cell_type": "code",
   "execution_count": 39,
   "metadata": {},
   "outputs": [
    {
     "name": "stdout",
     "output_type": "stream",
     "text": [
      "1\n",
      "0\n",
      "2\n"
     ]
    }
   ],
   "source": [
    "def findSmallCount(int_list, int_number):\n",
    "    count = 0\n",
    "    # int_list = sorted(int_list)\n",
    "    for i in int_list:\n",
    "        if int_number > i:\n",
    "            count += 1\n",
    "    return count\n",
    "            \n",
    "\n",
    "print(findSmallCount([1, 2, 3], 2))\n",
    "print(findSmallCount([1, 2, 3, 4, 5], 0))\n",
    "\n",
    "print(findSmallCount([3, 2, 1, 1], 2))"
   ]
  },
  {
   "attachments": {},
   "cell_type": "markdown",
   "metadata": {},
   "source": [
    "### **Simple 5**\n",
    "\n",
    "Question: Write a function called \"findSmallerTotal\" that takes one list of integers and one integer as input, and returns the sum of all elements in the list that are smaller than the input integer. \n",
    "\n",
    "```\n",
    "findSmallerTotal([1, 2, 3], 3) # returns 3\n",
    "findSmallerTotal([1, 2, 3], 1) # returns 0\n",
    "findSmallerTotal([3, 2, 5, 8, 7], 999) # returns 25\n",
    "findSmallerTotal([3, 2, 5, 8, 7], 0) # returns 0\n",
    "```"
   ]
  },
  {
   "cell_type": "code",
   "execution_count": 38,
   "metadata": {},
   "outputs": [
    {
     "name": "stdout",
     "output_type": "stream",
     "text": [
      "3\n",
      "0\n",
      "25\n",
      "0\n",
      "11\n"
     ]
    }
   ],
   "source": [
    "def findSmallerTotal(int_list, int_number):\n",
    "    total = 0\n",
    "    # int_list = sorted(int_list)\n",
    "    for i in int_list:\n",
    "        if int_number > i:\n",
    "            total += i\n",
    "    return total\n",
    "\n",
    "\n",
    "print(findSmallerTotal([1, 2, 3], 3))\n",
    "print(findSmallerTotal([1, 2, 3], 1))\n",
    "print(findSmallerTotal([3, 2, 5, 8, 7], 999))\n",
    "print(findSmallerTotal([3, 2, 5, 8, 7], 0))\n",
    "\n",
    "print(findSmallerTotal([10, 9, 8, 7, 6, 5, 3, 1, 2], 6))"
   ]
  },
  {
   "attachments": {},
   "cell_type": "markdown",
   "metadata": {},
   "source": [
    "### **Simple 6**\n",
    "\n",
    "Question: Write a function called \"findAllSmall\" that takes one list of integers and another integer as input, and returns an list of integers that contains all elements that are smaller than the input integer.\n",
    "\n",
    "```\n",
    "findAllSmall([1, 2, 3], 10); # returns [1, 2, 3]\n",
    "findAllSmall([1, 2, 3], 2); # returns [1]\n",
    "findAllSmall([1, 3, 5, 4, 2], 4); #  returns [1, 3, 2]\n",
    "```"
   ]
  },
  {
   "cell_type": "code",
   "execution_count": 40,
   "metadata": {},
   "outputs": [
    {
     "name": "stdout",
     "output_type": "stream",
     "text": [
      "[1, 2, 3]\n",
      "[1]\n",
      "[1, 3, 2]\n"
     ]
    }
   ],
   "source": [
    "def findAllSmall(int_list, int_number):\n",
    "    # int_list = sorted(int_list)\n",
    "    small_element = []\n",
    "    for i in int_list:\n",
    "        if int_number > i:\n",
    "            small_element.append(i)\n",
    "    return small_element\n",
    "\n",
    "print(findAllSmall([1, 2, 3], 10))\n",
    "print(findAllSmall([1, 2, 3], 2))\n",
    "print(findAllSmall([1, 3, 5, 4, 2], 4))"
   ]
  },
  {
   "attachments": {},
   "cell_type": "markdown",
   "metadata": {},
   "source": [
    "### **Simple 7**\n",
    "\n",
    "Question: Write a function called \"summ\" that takes one list of numbers, and return the sum of all elements in the input list.\n",
    "\n",
    "```\n",
    "summ([1, 2, 3, 4, 5, 6, 7, 8, 9, 10]); # returns 55\n",
    "summ([]); # return 0\n",
    "summ([-10, -20, -30]); # return -60\n",
    "```"
   ]
  },
  {
   "cell_type": "code",
   "execution_count": 41,
   "metadata": {},
   "outputs": [
    {
     "name": "stdout",
     "output_type": "stream",
     "text": [
      "55\n",
      "0\n",
      "-60\n"
     ]
    }
   ],
   "source": [
    "def summ(int_list):\n",
    "    total = 0\n",
    "    for i in int_list:\n",
    "        total += i\n",
    "    return total\n",
    "\n",
    "print(summ([1, 2, 3, 4, 5, 6, 7, 8, 9, 10]))\n",
    "print(summ([]))\n",
    "print(summ([-10, -20, -30]))   "
   ]
  },
  {
   "attachments": {},
   "cell_type": "markdown",
   "metadata": {},
   "source": [
    "### **Simple II 1**\n",
    "\n",
    "Question: Write a function called \"stars\" which prints out layers of stars in the following pattern:\n",
    "\n",
    "```\n",
    "stars(1);\n",
    "# *\n",
    "stars(4);\n",
    "# *\n",
    "# **\n",
    "# ***\n",
    "# ****\n",
    "```"
   ]
  },
  {
   "cell_type": "code",
   "execution_count": 52,
   "metadata": {},
   "outputs": [
    {
     "name": "stdout",
     "output_type": "stream",
     "text": [
      "*\n",
      "--------------------------\n",
      "*\n",
      "**\n",
      "***\n",
      "****\n"
     ]
    }
   ],
   "source": [
    "def stars(number):\n",
    "    for i in range(1, number+1):\n",
    "        print('*' * i)\n",
    "\n",
    "stars(1)\n",
    "print('--------------------------')\n",
    "stars(4)"
   ]
  },
  {
   "attachments": {},
   "cell_type": "markdown",
   "metadata": {},
   "source": [
    "### **Simple II 2**\n",
    "Question: Write a function called \"stars2\" which prints out layers of stars in the following pattern:\n",
    "\n",
    "```\n",
    "stars2(1);\n",
    "# *\n",
    "stars2(2);\n",
    "# *\n",
    "# **\n",
    "# *\n",
    "stars2(3);\n",
    "# *\n",
    "# **\n",
    "# ***\n",
    "# **\n",
    "# *\n",
    "stars2(4);\n",
    "# *\n",
    "# **\n",
    "# ***\n",
    "# ****\n",
    "# ***\n",
    "# **\n",
    "# *\n",
    "```"
   ]
  },
  {
   "cell_type": "code",
   "execution_count": 76,
   "metadata": {},
   "outputs": [
    {
     "name": "stdout",
     "output_type": "stream",
     "text": [
      "*\n",
      "-------------\n",
      "*\n",
      "**\n",
      "*\n",
      "-------------\n",
      "*\n",
      "**\n",
      "***\n",
      "**\n",
      "*\n",
      "-------------\n",
      "*\n",
      "**\n",
      "***\n",
      "****\n",
      "***\n",
      "**\n",
      "*\n"
     ]
    }
   ],
   "source": [
    "def stars2(number):\n",
    "    i = 1\n",
    "    while i <= number:\n",
    "        print('*' * i)\n",
    "        i += 1\n",
    "        \n",
    "    for i in range(number-1, 0, -1):\n",
    "        print('*' * i)\n",
    "\n",
    "# Wilson\n",
    "# def stars2(n):\n",
    "#     for i in range(1, n+1):\n",
    "#         print('*' * i)\n",
    "#     for i in range(n-1, 0, -1):\n",
    "#         print('*' * i)\n",
    "\n",
    "\n",
    "stars2(1)\n",
    "print('-------------')\n",
    "stars2(2)\n",
    "print('-------------')\n",
    "stars2(3)\n",
    "print('-------------')\n",
    "stars2(4)\n"
   ]
  },
  {
   "attachments": {},
   "cell_type": "markdown",
   "metadata": {},
   "source": [
    "### **Simple II 3**\n",
    "Question: Write a function called \"table\" which takes an input n, and prints out n x 1 to n x 9\n",
    "\n",
    "```\n",
    "table(3);\n",
    "# 3 x 1 = 3\n",
    "# 3 x 2 = 6\n",
    "# ...\n",
    "# 3 x 9 = 27\n",
    "```"
   ]
  },
  {
   "cell_type": "code",
   "execution_count": 79,
   "metadata": {},
   "outputs": [
    {
     "name": "stdout",
     "output_type": "stream",
     "text": [
      "3 x 1 = 3\n",
      "3 x 2 = 6\n",
      "3 x 3 = 9\n",
      "3 x 4 = 12\n",
      "3 x 5 = 15\n",
      "3 x 6 = 18\n",
      "3 x 7 = 21\n",
      "3 x 8 = 24\n",
      "3 x 9 = 27\n"
     ]
    }
   ],
   "source": [
    "def table(number):\n",
    "    for i in range(1, 10):\n",
    "        print(f'{number} x {i} = {number*i}')\n",
    "\n",
    "table(3)\n"
   ]
  },
  {
   "attachments": {},
   "cell_type": "markdown",
   "metadata": {},
   "source": [
    "### **Simple II 4**\n",
    "Question: Write a function called \"table9to9\" that prints out the multiplication table:\n",
    "\n",
    "```\n",
    "table9to9();\n",
    "# 1 x 1 = 1\n",
    "# 1 x 2 = 2\n",
    "# 1 x 3 = 3\n",
    "# ...\n",
    "# 1 x 9 = 9\n",
    "# 2 x 1 = 2\n",
    "# 2 x 2 = 4\n",
    "# ...\n",
    "# 9 x 9 = 81\n",
    "```"
   ]
  },
  {
   "cell_type": "code",
   "execution_count": 82,
   "metadata": {},
   "outputs": [
    {
     "name": "stdout",
     "output_type": "stream",
     "text": [
      "1 x 1 = 1\n",
      "1 x 2 = 2\n",
      "1 x 3 = 3\n",
      "1 x 4 = 4\n",
      "1 x 5 = 5\n",
      "1 x 6 = 6\n",
      "1 x 7 = 7\n",
      "1 x 8 = 8\n",
      "1 x 9 = 9\n",
      "2 x 1 = 2\n",
      "2 x 2 = 4\n",
      "2 x 3 = 6\n",
      "2 x 4 = 8\n",
      "2 x 5 = 10\n",
      "2 x 6 = 12\n",
      "2 x 7 = 14\n",
      "2 x 8 = 16\n",
      "2 x 9 = 18\n",
      "3 x 1 = 3\n",
      "3 x 2 = 6\n",
      "3 x 3 = 9\n",
      "3 x 4 = 12\n",
      "3 x 5 = 15\n",
      "3 x 6 = 18\n",
      "3 x 7 = 21\n",
      "3 x 8 = 24\n",
      "3 x 9 = 27\n",
      "4 x 1 = 4\n",
      "4 x 2 = 8\n",
      "4 x 3 = 12\n",
      "4 x 4 = 16\n",
      "4 x 5 = 20\n",
      "4 x 6 = 24\n",
      "4 x 7 = 28\n",
      "4 x 8 = 32\n",
      "4 x 9 = 36\n",
      "5 x 1 = 5\n",
      "5 x 2 = 10\n",
      "5 x 3 = 15\n",
      "5 x 4 = 20\n",
      "5 x 5 = 25\n",
      "5 x 6 = 30\n",
      "5 x 7 = 35\n",
      "5 x 8 = 40\n",
      "5 x 9 = 45\n",
      "6 x 1 = 6\n",
      "6 x 2 = 12\n",
      "6 x 3 = 18\n",
      "6 x 4 = 24\n",
      "6 x 5 = 30\n",
      "6 x 6 = 36\n",
      "6 x 7 = 42\n",
      "6 x 8 = 48\n",
      "6 x 9 = 54\n",
      "7 x 1 = 7\n",
      "7 x 2 = 14\n",
      "7 x 3 = 21\n",
      "7 x 4 = 28\n",
      "7 x 5 = 35\n",
      "7 x 6 = 42\n",
      "7 x 7 = 49\n",
      "7 x 8 = 56\n",
      "7 x 9 = 63\n",
      "8 x 1 = 8\n",
      "8 x 2 = 16\n",
      "8 x 3 = 24\n",
      "8 x 4 = 32\n",
      "8 x 5 = 40\n",
      "8 x 6 = 48\n",
      "8 x 7 = 56\n",
      "8 x 8 = 64\n",
      "8 x 9 = 72\n",
      "9 x 1 = 9\n",
      "9 x 2 = 18\n",
      "9 x 3 = 27\n",
      "9 x 4 = 36\n",
      "9 x 5 = 45\n",
      "9 x 6 = 54\n",
      "9 x 7 = 63\n",
      "9 x 8 = 72\n",
      "9 x 9 = 81\n"
     ]
    }
   ],
   "source": [
    "def table9to9():\n",
    "    for i in range(1, 10):\n",
    "        for j in range(1, 10):\n",
    "            print(f'{i} x {j} = {i*j}')\n",
    "\n",
    "table9to9()\n"
   ]
  },
  {
   "attachments": {},
   "cell_type": "markdown",
   "metadata": {},
   "source": [
    "### **Simple II 5**\n",
    "Question: Write a function called \"swap\" that takes a string as input, and returns a new string with lowercase changed to uppercase, uppercase changed to lowercase.\n",
    "\n",
    "```\n",
    "swap(\"Aloha\"); # returns \"aLOHA\"\n",
    "swap(\"Love you.\"); # returns \"lOVE YOU.\"\n",
    "```"
   ]
  },
  {
   "cell_type": "code",
   "execution_count": 1,
   "metadata": {},
   "outputs": [
    {
     "name": "stdout",
     "output_type": "stream",
     "text": [
      "aLOHA\n",
      "lOVE YOU.\n"
     ]
    }
   ],
   "source": [
    "def swap(text):\n",
    "    final_text = ''\n",
    "    for char in text:\n",
    "        if char.isupper():\n",
    "            final_text += char.lower()\n",
    "        else:\n",
    "            final_text += char.upper()\n",
    "    return final_text\n",
    "\n",
    "        \n",
    "\n",
    "# print(swap(\"Joy\"))\n",
    "print(swap(\"Aloha\"))\n",
    "print(swap(\"Love you.\"))"
   ]
  },
  {
   "attachments": {},
   "cell_type": "markdown",
   "metadata": {},
   "source": [
    "### **Simple II 6**\n",
    "Question: Write a function called \"findMin\" which takes an list as input, and returns the minimum element in the input list.\n",
    "\n",
    "```\n",
    "findMin([1, 2, 5, 6, 99, 4, 5]); # returns 1\n",
    "findMin([]); # returns undefined\n",
    "findMin([1, 6, 0, 33, 44, 88, -10]); # returns -10\n",
    "```"
   ]
  },
  {
   "cell_type": "code",
   "execution_count": 4,
   "metadata": {},
   "outputs": [
    {
     "name": "stdout",
     "output_type": "stream",
     "text": [
      "1\n",
      "undefined\n",
      "-10\n"
     ]
    }
   ],
   "source": [
    "def findMin(int_list):\n",
    "    try:\n",
    "        min_value = min(int_list)\n",
    "        return min_value\n",
    "    except:\n",
    "        return 'undefined'\n",
    "\n",
    "\n",
    "# Wilson\n",
    "# def findMin(int_list):\n",
    "#     if len(int_list) == 0:\n",
    "#         return 'undefined'\n",
    "#     else:\n",
    "#         min_value = min(int_list)\n",
    "#         return min_value\n",
    "\n",
    "# Wilson\n",
    "# def findMin(lst):\n",
    "#     if len(lst) == 0:\n",
    "#         print('undefined')\n",
    "#         return 'undefined'\n",
    "    \n",
    "#     min_element = lst[0]\n",
    "#     for ele in lst:\n",
    "#         if ele < min_element:\n",
    "#             min_element = ele\n",
    "#     print(min_element)\n",
    "#     return min_element\n",
    "        \n",
    "\n",
    "print(findMin([1, 2, 5, 6, 99, 4, 5]))\n",
    "print(findMin([]))\n",
    "print(findMin([1, 6, 0, 33, 44, 88, -10]))"
   ]
  },
  {
   "attachments": {},
   "cell_type": "markdown",
   "metadata": {},
   "source": [
    "### **Intermediate 1**\n",
    "Question: Write a function called \"mySort\" that takes an list of integers as input, and returns the sorted version of the input list. You are not allowed to use the built-in sorted() function.\n",
    "\n",
    "```\n",
    "mySort([17, 0, -3, 2, 1, 0.5]); # returns [-3, 0, 0.5, 1, 2, 17]\n",
    "```"
   ]
  },
  {
   "cell_type": "code",
   "execution_count": 144,
   "metadata": {},
   "outputs": [
    {
     "name": "stdout",
     "output_type": "stream",
     "text": [
      "[-3, 0, 0.5, 1, 2, 17]\n"
     ]
    }
   ],
   "source": [
    "def mySort(int_list):\n",
    "\n",
    "    sort_list = []\n",
    "    l = 1\n",
    "    while l <= len(int_list):\n",
    "        min_element = int_list[0]\n",
    "        # print(min_element)\n",
    "        for number in int_list:\n",
    "            if number < min_element:\n",
    "                min_element = number\n",
    "        # print(min_element)\n",
    "        sort_list.append(min_element)\n",
    "        int_list.remove(min_element)\n",
    "        # print(int_list)\n",
    "        # print(sort_list)\n",
    "    l += 1\n",
    "    return sort_list\n",
    "\n",
    "print(mySort([17, 0, -3, 2, 1, 0.5]))"
   ]
  },
  {
   "attachments": {},
   "cell_type": "markdown",
   "metadata": {},
   "source": [
    "### **Intermediate 2**\n",
    "Question: Write a function called \"isPrime\" that takes an integer as input, and returns a boolean value that indicates if the input number is prime.\n",
    "\n",
    "```\n",
    "isPrime(1); # returns false\n",
    "isPrime(5); # returns true\n",
    "isPrime(91); # returns false\n",
    "isPrime(1000000); # returns false\n",
    "```"
   ]
  },
  {
   "cell_type": "code",
   "execution_count": 139,
   "metadata": {},
   "outputs": [
    {
     "name": "stdout",
     "output_type": "stream",
     "text": [
      "false\n",
      "false\n",
      "true\n",
      "false\n",
      "true\n"
     ]
    }
   ],
   "source": [
    "def isPrime(number):\n",
    "    if number in [0, 1]:\n",
    "        return 'false'\n",
    "    for i in range(2, number):\n",
    "        if number % i == 0:\n",
    "            return 'false'\n",
    "    return 'true'\n",
    "\n",
    "print(isPrime(0))\n",
    "\n",
    "print(isPrime(1))\n",
    "print(isPrime(5))\n",
    "print(isPrime(91))\n",
    "print(isPrime(2))\n"
   ]
  },
  {
   "attachments": {},
   "cell_type": "markdown",
   "metadata": {},
   "source": [
    "### **Intermediate 3**\n",
    "Question: Write a function called \"palindrome\" that checks if the input string is a palindrome. (Search on google if you don't know what a palindrome is.)\n",
    "\n",
    "```\n",
    "palindrome(\"bearaeb\"); # true\n",
    "palindrome(\"Whatever revetahW\"); # true\n",
    "palindrome(\"Aloha, how are you today?\"); # false\n",
    "```"
   ]
  },
  {
   "cell_type": "code",
   "execution_count": 173,
   "metadata": {},
   "outputs": [
    {
     "name": "stdout",
     "output_type": "stream",
     "text": [
      "true\n",
      "true\n",
      "false\n"
     ]
    }
   ],
   "source": [
    "def palindrome(text):\n",
    "    last_index = len(text) -1\n",
    "    mid_index = len(text) // 2 \n",
    "    head = []\n",
    "    tail = []\n",
    "    for i in range(mid_index + 1):\n",
    "        head.append(text[i])\n",
    "    for j in range(last_index, mid_index - 1, -1):\n",
    "        tail.append(text[j])\n",
    "\n",
    "    if head == tail:\n",
    "        return 'true'\n",
    "    return 'false'\n",
    "\n",
    "# Wilson\n",
    "# import math\n",
    "# def palindrome(string):\n",
    "#     for i in range(0, math.floor(len(string) / 2)):\n",
    "#         if string[i] != string[len(string) - 1 - i]:\n",
    "#             return False\n",
    "#     return True\n",
    "\n",
    "print(palindrome(\"bearaeb\"))\n",
    "print(palindrome(\"Whatever revetahW\"))\n",
    "print(palindrome(\"Aloha, how are you today?\"))"
   ]
  },
  {
   "attachments": {},
   "cell_type": "markdown",
   "metadata": {},
   "source": [
    "### **Intermediate 4**\n",
    "Question: Write a function called \"pyramid\" that takes an integer as input, and prints a pyramid in the following pattern:\n",
    "\n",
    "```\n",
    "pyramid(1);\n",
    "# *\n",
    "pyramid(2);\n",
    "#  *\n",
    "# ***\n",
    "pyramid(4);\n",
    "#    *\n",
    "#   ***\n",
    "#  *****\n",
    "# *******\n",
    "```"
   ]
  },
  {
   "cell_type": "code",
   "execution_count": 179,
   "metadata": {},
   "outputs": [
    {
     "name": "stdout",
     "output_type": "stream",
     "text": [
      "*\n",
      "----------\n",
      " *\n",
      "***\n",
      "----------\n",
      "   *\n",
      "  ***\n",
      " *****\n",
      "*******\n"
     ]
    }
   ],
   "source": [
    "# Wilson\n",
    "def pyramid(n):\n",
    "    space = n - 1\n",
    "    star = 1 \n",
    "    for i in range(n):\n",
    "        print(space * ' ' + star * '*')\n",
    "        space -= 1\n",
    "        star += 2\n",
    "\n",
    "\n",
    "pyramid(1)\n",
    "print('----------')\n",
    "pyramid(2)\n",
    "print('----------')\n",
    "pyramid(4)\n"
   ]
  },
  {
   "attachments": {},
   "cell_type": "markdown",
   "metadata": {},
   "source": [
    "### **Intermediate 5**\n",
    "Question: Write a function called \"inversePyramid\" that draws pyramid upside down.\n",
    "\n",
    "```\n",
    "inversePyramid(4);\n",
    "# *******\n",
    "#  *****\n",
    "#   ***\n",
    "#    *\n",
    "```"
   ]
  },
  {
   "cell_type": "code",
   "execution_count": 190,
   "metadata": {},
   "outputs": [
    {
     "name": "stdout",
     "output_type": "stream",
     "text": [
      "*******\n",
      " *****\n",
      "  ***\n",
      "   *\n"
     ]
    }
   ],
   "source": [
    "def inversePyramid(n):\n",
    "    space = 0\n",
    "    star = 2 * n - 1 \n",
    "    for i in range(n):\n",
    "        print(space * ' ' + star * '*')\n",
    "        space += 1\n",
    "        star -= 2\n",
    "\n",
    "\n",
    "inversePyramid(4)"
   ]
  },
  {
   "attachments": {},
   "cell_type": "markdown",
   "metadata": {},
   "source": [
    "### **Intermediate 6**\n",
    "Question: Given a list of ints, return True if the list contains a 3 next to a 3.\n",
    "\n",
    "```\n",
    "print(has_33([1, 5, 7, 3, 3])) # True\n",
    "print(has_33([])) # False\n",
    "print(has_33([4, 3, 2, 1, 0])) # False\n",
    "```"
   ]
  },
  {
   "cell_type": "code",
   "execution_count": 192,
   "metadata": {},
   "outputs": [
    {
     "name": "stdout",
     "output_type": "stream",
     "text": [
      "True\n",
      "False\n",
      "False\n"
     ]
    }
   ],
   "source": [
    "def has_33(int_list):\n",
    "    for i, element in enumerate(int_list):\n",
    "        if element == 3 and int_list[i+1] == 3:\n",
    "            return True\n",
    "    return False\n",
    "\n",
    "# Wilson\n",
    "# def has_33(int_list):\n",
    "#     for i in range(len(int_list) - 1):\n",
    "#         if int_list[i] == 3 and int_list[i+1] == 3:\n",
    "#             return True\n",
    "#     return False\n",
    "\n",
    "print(has_33([1, 5, 7, 3, 3]))\n",
    "print(has_33([]))\n",
    "print(has_33([4, 3, 2, 1, 0]))"
   ]
  },
  {
   "attachments": {},
   "cell_type": "markdown",
   "metadata": {},
   "source": [
    "### **Intermediate 7**\n",
    "Question: Write a function that check if a list contains a subsequence of 007\n",
    "\n",
    "```\n",
    "print(spyGame([1, 2, 4, 0, 3, 0, 7])) # True\n",
    "print(spyGame([1, 2, 5, 0, 3, 1, 7])) # False\n",
    "```"
   ]
  },
  {
   "cell_type": "code",
   "execution_count": 8,
   "metadata": {},
   "outputs": [
    {
     "name": "stdout",
     "output_type": "stream",
     "text": [
      "True\n",
      "False\n"
     ]
    }
   ],
   "source": [
    "# Wilson\n",
    "def spyGame(lst):\n",
    "    string = '007'\n",
    "    pointer_for_list = 0\n",
    "    pointer_for_string = 0\n",
    "\n",
    "    while pointer_for_list < len(lst):\n",
    "        if lst[pointer_for_list] == int(string[pointer_for_string]):     # 如果 list 的 pointer  = string，就往下一個string 的 poonter前進\n",
    "            pointer_for_string += 1\n",
    "            if pointer_for_string == len(string) -1:                     # 檢查 for string 的 pointer 是不是已經到達 string 的長度了\n",
    "                return True\n",
    "        pointer_for_list += 1\n",
    "    return False\n",
    "\n",
    "\n",
    "print(spyGame([1, 2, 4, 0, 3, 0, 7])) # True\n",
    "print(spyGame([1, 2, 5, 0, 3, 1, 7])) # False"
   ]
  },
  {
   "attachments": {},
   "cell_type": "markdown",
   "metadata": {},
   "source": [
    "### **Intermediate II 1**\n",
    "Question: Write a function called \"factorPrime\" that takes an integer as input, and returns the prime factorization of the input.\n",
    "\n",
    "```\n",
    "factorPrime(120); # returns \"2 x 2 x 2 x 3 x 5\"\n",
    "```"
   ]
  },
  {
   "cell_type": "code",
   "execution_count": 12,
   "metadata": {},
   "outputs": [
    {
     "data": {
      "text/plain": [
       "'120 = 2 x 2 x 2 x 3 x 5'"
      ]
     },
     "execution_count": 12,
     "metadata": {},
     "output_type": "execute_result"
    }
   ],
   "source": [
    "# Wilson\n",
    "def factorPrime(n):\n",
    "    answer = str(n) + \" = \"\n",
    "    # if n cannot be divided by 2,\n",
    "    # then n cannot be divided by any multiples of 2\n",
    "    p = 2\n",
    "    while (p <= n):\n",
    "        if n % p == 0:\n",
    "            answer += str(p) + \" x \"\n",
    "            n /= p\n",
    "        else:\n",
    "            p += 1\n",
    "    return answer[:len(answer) - 3]\n",
    "\n",
    "factorPrime(120)"
   ]
  },
  {
   "attachments": {},
   "cell_type": "markdown",
   "metadata": {},
   "source": [
    "### **Intermediate II 2**\n",
    "Question: Write a function called \"intersection\" that takes 2 lists, and returns an list of elements that are in the intersection of 2 list.\n",
    "\n",
    "```\n",
    "intersection([1, 3, 4, 6, 10], [5, 11, 4, 3, 100, 144, 0]); # returns [3, 4]\n",
    "```"
   ]
  },
  {
   "cell_type": "code",
   "execution_count": 15,
   "metadata": {},
   "outputs": [
    {
     "name": "stdout",
     "output_type": "stream",
     "text": [
      "[3, 4]\n"
     ]
    }
   ],
   "source": [
    "def intersection(list1, list2):\n",
    "    same_element = []\n",
    "    for i in list1:\n",
    "        for j in list2:\n",
    "            if i == j:\n",
    "                same_element.append(i)\n",
    "    return same_element\n",
    "\n",
    "# 此方法演算法的效率較不佳\n",
    "\n",
    "print(intersection([1, 3, 4, 6, 10], [5, 11, 4, 3, 100, 144, 0]))"
   ]
  },
  {
   "attachments": {},
   "cell_type": "markdown",
   "metadata": {},
   "source": [
    "### **Intermediate II 3**\n",
    "Question: Write a function called \"flatten\" that flattens an list.\n",
    "\n",
    "* flatten 是指 將多維轉換成一維的過程\n",
    "\n",
    "```\n",
    "flatten([1, [[], 2, [0, [1]], [3]], [1, 3, [3], [4, [1]], [2]]]);\n",
    "# returns [1, 2, 0, 1, 3, 1, 3, 3, 4, 1, 2]\n",
    "```"
   ]
  },
  {
   "cell_type": "code",
   "execution_count": 3,
   "metadata": {},
   "outputs": [
    {
     "name": "stdout",
     "output_type": "stream",
     "text": [
      "[1, 2, 0, 1, 3, 1, 3, 3, 4, 1, 2]\n"
     ]
    }
   ],
   "source": [
    "# Wilson\n",
    "result = []                       # 要做遞迴所以要把 reuslt 寫在外面\n",
    "def flatten(lst):\n",
    "    \"\"\"\n",
    "    將多維list轉換成一維list\n",
    "    \"\"\"\n",
    "    \n",
    "    for i in lst:\n",
    "        if type(i) == type([]):\n",
    "            flatten(i)              # recursive & stacked\n",
    "        else:\n",
    "            result.append(i)\n",
    "    return result\n",
    "\n",
    "print(flatten([1, [[], 2, [0, [1]], [3]], [1, 3, [3], [4, [1]], [2]]]))"
   ]
  },
  {
   "cell_type": "code",
   "execution_count": 19,
   "metadata": {},
   "outputs": [
    {
     "name": "stdout",
     "output_type": "stream",
     "text": [
      "False\n",
      "False\n"
     ]
    }
   ],
   "source": [
    "a = [1, 2, 3]\n",
    "print(type(a) == \"list\")\n",
    "print(type(a) == \"<class 'list'>\")\n"
   ]
  }
 ],
 "metadata": {
  "kernelspec": {
   "display_name": "base",
   "language": "python",
   "name": "python3"
  },
  "language_info": {
   "codemirror_mode": {
    "name": "ipython",
    "version": 3
   },
   "file_extension": ".py",
   "mimetype": "text/x-python",
   "name": "python",
   "nbconvert_exporter": "python",
   "pygments_lexer": "ipython3",
   "version": "3.10.2"
  },
  "orig_nbformat": 4
 },
 "nbformat": 4,
 "nbformat_minor": 2
}
